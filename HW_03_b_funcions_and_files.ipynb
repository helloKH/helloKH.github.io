{
  "nbformat": 4,
  "nbformat_minor": 0,
  "metadata": {
    "colab": {
      "name": "HW_03_b_funcions_and_files.ipynb",
      "provenance": [],
      "collapsed_sections": [
        "AzfKddqVu2Yu",
        "iCKuxqXOu2Y0",
        "msl10kGu_GSK",
        "n2WgLUMP_QcX",
        "KgRm9Xai_bX-",
        "X4hyDncN_zBp",
        "qoXAFLDh_7qH",
        "zSkzF-O3AHHl",
        "OpC9MxToniFm",
        "dZHDNjQvBDLg",
        "IVcFXFXUEV5Y",
        "7WhG4LubGMZ0",
        "zVE7u2a2_AKK",
        "IT8Fmz16ALTK",
        "Z032QiMAdsgk",
        "4aGmtVD-d0GA",
        "u2gD48McgTg7"
      ],
      "include_colab_link": true
    },
    "kernelspec": {
      "display_name": "Python 3",
      "language": "python",
      "name": "python3"
    },
    "language_info": {
      "codemirror_mode": {
        "name": "ipython",
        "version": 3
      },
      "file_extension": ".py",
      "mimetype": "text/x-python",
      "name": "python",
      "nbconvert_exporter": "python",
      "pygments_lexer": "ipython3",
      "version": "3.6.8"
    }
  },
  "cells": [
    {
      "cell_type": "markdown",
      "metadata": {
        "id": "view-in-github",
        "colab_type": "text"
      },
      "source": [
        "<a href=\"https://colab.research.google.com/github/helloKH/helloKH.github.io/blob/master/HW_03_b_funcions_and_files.ipynb\" target=\"_parent\"><img src=\"https://colab.research.google.com/assets/colab-badge.svg\" alt=\"Open In Colab\"/></a>"
      ]
    },
    {
      "cell_type": "markdown",
      "metadata": {
        "id": "v-I6Tqd9vArs",
        "colab_type": "text"
      },
      "source": [
        "# 03. 내장 자료구조, 함수, 파일 (2)"
      ]
    },
    {
      "cell_type": "markdown",
      "metadata": {
        "id": "pqoPQ4JLu2YV",
        "colab_type": "text"
      },
      "source": [
        "* 싸이그래머 / PsyPy [1]\n",
        "* 김무성"
      ]
    },
    {
      "cell_type": "code",
      "metadata": {
        "id": "THweB5Tzu2YW",
        "colab_type": "code",
        "outputId": "558f8ce2-e9b1-43e5-a927-f39b81426f4e",
        "colab": {
          "base_uri": "https://localhost:8080/",
          "height": 34
        }
      },
      "source": [
        "!python -V"
      ],
      "execution_count": 0,
      "outputs": [
        {
          "output_type": "stream",
          "text": [
            "Python 3.6.8\n"
          ],
          "name": "stdout"
        }
      ]
    },
    {
      "cell_type": "markdown",
      "metadata": {
        "id": "OkoN1Swsu2YZ",
        "colab_type": "text"
      },
      "source": [
        "# 차례 \n",
        "* 함수\n",
        "    - 네임스페이스, 스코프, 지역 함수\n",
        "    - 여러 값 반환하기\n",
        "    - 함수도 객체다\n",
        "    - 익명 함수\n",
        "    - 클로저 : 함수를 반환하는 함수\n",
        "    - \\*args와  \\*\\*kwargs를 사용해서 호출 문법 확장하기  \n",
        "    - 커링 : 일부 인자만 취하기\n",
        "    - 제너레이터\n",
        "    - 에러와 예외 처리\n",
        "* 파일과 운영체제\n",
        "    - 파일 읽기\n",
        "    - with 문 사용\n",
        "    - 파일을 읽는 여러 가지 방법\n",
        "    - 파일 쓰기\n",
        "    - 바이트와 유니코드\n",
        "* 클래스\n",
        "* 함수형 프로그래밍\n",
        "  - map\n",
        "  - filter\n",
        "  - reduce"
      ]
    },
    {
      "cell_type": "markdown",
      "metadata": {
        "id": "PQGfnCP8u2Ya",
        "colab_type": "text"
      },
      "source": [
        "------------------------"
      ]
    },
    {
      "cell_type": "markdown",
      "metadata": {
        "id": "KOEuB8XCu2Yb",
        "colab_type": "text"
      },
      "source": [
        "# 함수"
      ]
    },
    {
      "cell_type": "markdown",
      "metadata": {
        "id": "dcV0A_DGu2Yd",
        "colab_type": "text"
      },
      "source": [
        "```python\n",
        "def my_function(x, y, z=1.5) :\n",
        "    if z > 1 :\n",
        "        return z * (x + y)\n",
        "    else :\n",
        "        return z / (x + y)\n",
        "    \n",
        "# return문이 몇 개가 되든 상관없다. \n",
        "# 함수 블록이 끝날 때까지 return문이 없다면 None이 반환된다.   \n",
        "```"
      ]
    },
    {
      "cell_type": "markdown",
      "metadata": {
        "id": "p9yu8JPhu2Ye",
        "colab_type": "text"
      },
      "source": [
        "## 네임스페이스, 스코프, 지역 함수"
      ]
    },
    {
      "cell_type": "markdown",
      "metadata": {
        "id": "IACL_twju2Ye",
        "colab_type": "text"
      },
      "source": [
        "```python\n",
        "# 로컬\n",
        "def func() :\n",
        "    a = []  # <- local\n",
        "    for i in range(5) :\n",
        "        a.append(i)\n",
        "```        "
      ]
    },
    {
      "cell_type": "markdown",
      "metadata": {
        "id": "6HbhKQ-yu2Yf",
        "colab_type": "text"
      },
      "source": [
        "```python\n",
        "# 전역 \n",
        "a = []\n",
        "def func() :\n",
        "    for i in range(5) :\n",
        "        a.append(i)\n",
        "        \n",
        "func()\n",
        "a\n",
        "```"
      ]
    },
    {
      "cell_type": "code",
      "metadata": {
        "id": "rxPyir7eu2Yg",
        "colab_type": "code",
        "outputId": "ec676f9d-c6a2-4fe8-92ce-caa26fe62b92",
        "colab": {
          "base_uri": "https://localhost:8080/",
          "height": 34
        }
      },
      "source": [
        "b = None\n",
        "def bind_b_variable() :\n",
        "    b = []\n",
        "    \n",
        "bind_b_variable()    \n",
        "print(b)    "
      ],
      "execution_count": 0,
      "outputs": [
        {
          "output_type": "stream",
          "text": [
            "None\n"
          ],
          "name": "stdout"
        }
      ]
    },
    {
      "cell_type": "code",
      "metadata": {
        "id": "4dxygrahu2Yi",
        "colab_type": "code",
        "outputId": "e8f017bc-2eeb-42ff-a601-9fcd1ccb1d93",
        "colab": {
          "base_uri": "https://localhost:8080/",
          "height": 34
        }
      },
      "source": [
        "# global 예약어 사용\n",
        "b = None\n",
        "def bind_b_variable() :\n",
        "    global b\n",
        "    b = []\n",
        "\n",
        "bind_b_variable()\n",
        "print(b)"
      ],
      "execution_count": 0,
      "outputs": [
        {
          "output_type": "stream",
          "text": [
            "[]\n"
          ],
          "name": "stdout"
        }
      ]
    },
    {
      "cell_type": "markdown",
      "metadata": {
        "id": "Q-8jHbo4u2Yl",
        "colab_type": "text"
      },
      "source": [
        "```python\n",
        "# 함수 안에서 함수를 선언할 수 있다.\n",
        "def outer_function(x, y, z) :\n",
        "    def inner_function(a, b, c) :\n",
        "        pass\n",
        "    pass\n",
        "```"
      ]
    },
    {
      "cell_type": "markdown",
      "metadata": {
        "id": "VUu8U8W7u2Yl",
        "colab_type": "text"
      },
      "source": [
        "## 여러 값 반환하기"
      ]
    },
    {
      "cell_type": "code",
      "metadata": {
        "id": "k_l0oLbCu2Ym",
        "colab_type": "code",
        "outputId": "a8b80519-e460-47e4-faba-874daa941fd6",
        "colab": {
          "base_uri": "https://localhost:8080/",
          "height": 34
        }
      },
      "source": [
        "def f() :\n",
        "    a = 5\n",
        "    b = 6\n",
        "    c = 7\n",
        "    return a, b, c\n",
        "\n",
        "a, b, c = f()\n",
        "print(a, b, c)"
      ],
      "execution_count": 0,
      "outputs": [
        {
          "output_type": "stream",
          "text": [
            "5 6 7\n"
          ],
          "name": "stdout"
        }
      ]
    },
    {
      "cell_type": "code",
      "metadata": {
        "id": "gGncnYipu2Yo",
        "colab_type": "code",
        "outputId": "798f4f13-bd71-4d09-b01e-7357ca21690c",
        "colab": {
          "base_uri": "https://localhost:8080/",
          "height": 34
        }
      },
      "source": [
        "return_value = f()\n",
        "return_value # 여래 개의 값을 하나의 변수에 반환받으면, 그 변수는 튜플 자료형이 된다."
      ],
      "execution_count": 0,
      "outputs": [
        {
          "output_type": "execute_result",
          "data": {
            "text/plain": [
              "(5, 6, 7)"
            ]
          },
          "metadata": {
            "tags": []
          },
          "execution_count": 5
        }
      ]
    },
    {
      "cell_type": "markdown",
      "metadata": {
        "id": "TG7CErDeu2Yr",
        "colab_type": "text"
      },
      "source": [
        "## 함수도 객체다"
      ]
    },
    {
      "cell_type": "code",
      "metadata": {
        "id": "Fag3HE6Ku2Yr",
        "colab_type": "code",
        "colab": {}
      },
      "source": [
        "states = [ '  Alabama ', 'Georgia!', 'Georgia', 'georgia', 'FlOrIda', \n",
        "          'south carolin##', 'West virginaia?']"
      ],
      "execution_count": 0,
      "outputs": []
    },
    {
      "cell_type": "markdown",
      "metadata": {
        "id": "AzfKddqVu2Yu",
        "colab_type": "text"
      },
      "source": [
        "### 문자열을 변형하기 위해 함수를 사용하는 일반적인 패턴"
      ]
    },
    {
      "cell_type": "code",
      "metadata": {
        "id": "wrhEPwb7u2Yu",
        "colab_type": "code",
        "colab": {}
      },
      "source": [
        "import re \n",
        "\n",
        "def clean_strings(strings) :\n",
        "    result = []\n",
        "    for value in strings :\n",
        "        value = value.strip()\n",
        "        value = re.sub('[!#?]', '', value) # 문장 부호 제거\n",
        "        value = value.title()\n",
        "        result.append(value)\n",
        "    return result"
      ],
      "execution_count": 0,
      "outputs": []
    },
    {
      "cell_type": "code",
      "metadata": {
        "id": "fVmHarUuu2Yw",
        "colab_type": "code",
        "outputId": "44cdf34b-683a-4ddf-8954-5fd4791493aa",
        "colab": {
          "base_uri": "https://localhost:8080/"
        }
      },
      "source": [
        "clean_strings(states)"
      ],
      "execution_count": 0,
      "outputs": [
        {
          "output_type": "execute_result",
          "data": {
            "text/plain": [
              "['Alabama',\n",
              " 'Georgia',\n",
              " 'Georgia',\n",
              " 'Georgia',\n",
              " 'Florida',\n",
              " 'South Carolin',\n",
              " 'West Virginaia']"
            ]
          },
          "metadata": {
            "tags": []
          },
          "execution_count": 8
        }
      ]
    },
    {
      "cell_type": "markdown",
      "metadata": {
        "id": "iCKuxqXOu2Y0",
        "colab_type": "text"
      },
      "source": [
        "### 함수를 객체화하고 인자로 넘겨서 좀 더 유연하게 사용하는 패턴"
      ]
    },
    {
      "cell_type": "code",
      "metadata": {
        "id": "oa4ISPflu2Y1",
        "colab_type": "code",
        "colab": {}
      },
      "source": [
        "def remove_punctuation(value) :\n",
        "    return re.sub('[!#?]', '', value)\n",
        "\n",
        "# 함수도 객체. \n",
        "clean_ops = [str.strip, remove_punctuation, str.title]\n",
        "\n",
        "def clean_strings(strings, ops) :\n",
        "    result = []\n",
        "    for value in strings :\n",
        "        for function in ops :\n",
        "            value = function(value) \n",
        "        result.append(value)\n",
        "    return result"
      ],
      "execution_count": 0,
      "outputs": []
    },
    {
      "cell_type": "code",
      "metadata": {
        "id": "jiScde28u2Y3",
        "colab_type": "code",
        "outputId": "95996d9f-ed34-4f6d-ba8a-fec6d064aa22",
        "colab": {
          "base_uri": "https://localhost:8080/"
        }
      },
      "source": [
        "clean_strings(states, clean_ops)"
      ],
      "execution_count": 0,
      "outputs": [
        {
          "output_type": "execute_result",
          "data": {
            "text/plain": [
              "['Alabama',\n",
              " 'Georgia',\n",
              " 'Georgia',\n",
              " 'Georgia',\n",
              " 'Florida',\n",
              " 'South Carolin',\n",
              " 'West Virginaia']"
            ]
          },
          "metadata": {
            "tags": []
          },
          "execution_count": 10
        }
      ]
    },
    {
      "cell_type": "code",
      "metadata": {
        "id": "ammnqhoWu2Y5",
        "colab_type": "code",
        "outputId": "4696ae56-c83c-41e8-d6fa-91f763ca4f34",
        "colab": {
          "base_uri": "https://localhost:8080/"
        }
      },
      "source": [
        "# map을 이용해본다. 어떤 컬렉션에 대해 함수를 적용하는 함수다. \n",
        "# 이를 이용해서 함수를 인자로 사용할 수 있다.\n",
        "map(remove_punctuation, states)"
      ],
      "execution_count": 0,
      "outputs": [
        {
          "output_type": "execute_result",
          "data": {
            "text/plain": [
              "<map at 0x7fdbd7394908>"
            ]
          },
          "metadata": {
            "tags": []
          },
          "execution_count": 11
        }
      ]
    },
    {
      "cell_type": "code",
      "metadata": {
        "id": "GSssdH-0u2Y7",
        "colab_type": "code",
        "outputId": "ecb25790-b0ee-4a5e-e28c-cb83aa374c59",
        "colab": {
          "base_uri": "https://localhost:8080/"
        }
      },
      "source": [
        "for e in map(remove_punctuation, states) :\n",
        "    print(e)"
      ],
      "execution_count": 0,
      "outputs": [
        {
          "output_type": "stream",
          "text": [
            "  Alabama \n",
            "Georgia\n",
            "Georgia\n",
            "georgia\n",
            "FlOrIda\n",
            "south carolin\n",
            "West virginaia\n"
          ],
          "name": "stdout"
        }
      ]
    },
    {
      "cell_type": "markdown",
      "metadata": {
        "id": "Dtae_lMHu2Y9",
        "colab_type": "text"
      },
      "source": [
        "## 익명 함수 "
      ]
    },
    {
      "cell_type": "markdown",
      "metadata": {
        "id": "BnOxWSL2u2Y-",
        "colab_type": "text"
      },
      "source": [
        "```python\n",
        "def short_function(x) :\n",
        "    return x * 2\n",
        "\n",
        "# 위의 함수와 동치인 익명 함수(람다 함수)\n",
        "equiv_anon = lambda x: x * 2\n",
        "```"
      ]
    },
    {
      "cell_type": "code",
      "metadata": {
        "id": "4zjf8Mhru2Y-",
        "colab_type": "code",
        "outputId": "4e4ee4a8-5b34-4ece-98e1-035eeb0ee5af",
        "colab": {
          "base_uri": "https://localhost:8080/"
        }
      },
      "source": [
        "# 각 문자열에서 다양한 문자가 포함된 순서로 정렬하는 예제\n",
        "strings = ['foo', 'card', 'bar', 'aaaa', 'abab']\n",
        "strings.sort(key=lambda x: len(set(list(x))))\n",
        "strings"
      ],
      "execution_count": 0,
      "outputs": [
        {
          "output_type": "execute_result",
          "data": {
            "text/plain": [
              "['aaaa', 'foo', 'abab', 'bar', 'card']"
            ]
          },
          "metadata": {
            "tags": []
          },
          "execution_count": 13
        }
      ]
    },
    {
      "cell_type": "markdown",
      "metadata": {
        "id": "yC_4yesw-3Ag",
        "colab_type": "text"
      },
      "source": [
        "## 클로저 : 함수를 반환하는 함수"
      ]
    },
    {
      "cell_type": "code",
      "metadata": {
        "id": "UWtGYbsY-6nt",
        "colab_type": "code",
        "colab": {}
      },
      "source": [
        "# 클로저는 다른 함수에서 반환되는, 동적으로 생성된 함수다. \n",
        "# 핵심은 반환되는 함수는 그 함수가 생성된 시점의 \n",
        "# 지역 네임스페이스의 변수에 접근할 수 있다는 점이다."
      ],
      "execution_count": 0,
      "outputs": []
    },
    {
      "cell_type": "code",
      "metadata": {
        "id": "H39kltIu-3-O",
        "colab_type": "code",
        "outputId": "a43d9874-9f35-4b6b-ab01-b2dc2b45e754",
        "colab": {
          "base_uri": "https://localhost:8080/"
        }
      },
      "source": [
        "def make_closure(a) :\n",
        "    def closure() :\n",
        "        print(\"I know the secret: %d\", a)\n",
        "    return closure\n",
        "\n",
        "closure = make_closure(5)\n",
        "closure()\n",
        "closure() # 클로저를 생성하는 함수가 끝나더라도 생성된 시점의 네임스페이스에 여전히 접근할 수 있다.\n"
      ],
      "execution_count": 0,
      "outputs": [
        {
          "output_type": "stream",
          "text": [
            "I know the secret: %d 5\n",
            "I know the secret: %d 5\n"
          ],
          "name": "stdout"
        }
      ]
    },
    {
      "cell_type": "code",
      "metadata": {
        "id": "g2rk1UDg_C75",
        "colab_type": "code",
        "colab": {}
      },
      "source": [
        "# 클로져가 변경 가능한 객체를 가질 수도 있다.\n",
        "def make_watcher() :\n",
        "    have_seen = {}\n",
        "    \n",
        "    def has_been_seen(x) :\n",
        "        if x in have_seen :\n",
        "            return True\n",
        "        else :\n",
        "            have_seen[x] = True\n",
        "            return False\n",
        "        \n",
        "    return has_been_seen"
      ],
      "execution_count": 0,
      "outputs": []
    },
    {
      "cell_type": "code",
      "metadata": {
        "id": "Gj2zPwmc_Ex9",
        "colab_type": "code",
        "outputId": "320fafee-86c3-4fe2-e08b-de2f56026b25",
        "colab": {
          "base_uri": "https://localhost:8080/"
        }
      },
      "source": [
        "watcher = make_watcher()\n",
        "vals = [5, 6, 1, 5, 1, 6, 3, 5]\n",
        "[watcher(x) for x in vals]"
      ],
      "execution_count": 0,
      "outputs": [
        {
          "output_type": "execute_result",
          "data": {
            "text/plain": [
              "[False, False, False, True, True, True, False, True]"
            ]
          },
          "metadata": {
            "tags": []
          },
          "execution_count": 17
        }
      ]
    },
    {
      "cell_type": "markdown",
      "metadata": {
        "id": "msl10kGu_GSK",
        "colab_type": "text"
      },
      "source": [
        "## \\*args와  \\*\\*kwargs를 사용해서 호출 문법 확장하기  "
      ]
    },
    {
      "cell_type": "markdown",
      "metadata": {
        "id": "pWffYxVB_K-W",
        "colab_type": "text"
      },
      "source": [
        "```python\n",
        "# 파이썬에서 함수 인자가 동작하는 방식은, \n",
        "# 만약 func(a, b, c, d=some, e= value) 라고 코드를 작성하면\n",
        "# 일반 인자와 키워드 인자는 \n",
        "# 각각 튜플 args와\n",
        "# 사전 kwargs에 저장된다.\n",
        "# 내부적으로 다음과 같은 과정을 거친다\n",
        "a, b, c = args\n",
        "d = kwargs.get('d', d_default_value)\n",
        "e = kwargs.get('e', e_defaulT_value)\n",
        "```"
      ]
    },
    {
      "cell_type": "code",
      "metadata": {
        "id": "Ux2jknJ-_NV7",
        "colab_type": "code",
        "outputId": "33c9181b-06b7-41c7-a211-6d07e22b145a",
        "colab": {
          "base_uri": "https://localhost:8080/"
        }
      },
      "source": [
        "# 예제\n",
        "def say_hello_then_call_f(f, *args, **kwargs) :\n",
        "    print('args is', args)\n",
        "    print('kwargs is', kwargs)\n",
        "    print(\"Hello! Now I'm going to call %s\" %(f))\n",
        "    return f(*args, **kwargs)\n",
        "\n",
        "def g(x, y, z=1) :\n",
        "    return (x+y)/z\n",
        "\n",
        "say_hello_then_call_f(g, 1, 2, z=5.)"
      ],
      "execution_count": 0,
      "outputs": [
        {
          "output_type": "stream",
          "text": [
            "args is (1, 2)\n",
            "kwargs is {'z': 5.0}\n",
            "Hello! Now I'm going to call <function g at 0x7fdbd73e4d90>\n"
          ],
          "name": "stdout"
        },
        {
          "output_type": "execute_result",
          "data": {
            "text/plain": [
              "0.6"
            ]
          },
          "metadata": {
            "tags": []
          },
          "execution_count": 18
        }
      ]
    },
    {
      "cell_type": "markdown",
      "metadata": {
        "id": "n2WgLUMP_QcX",
        "colab_type": "text"
      },
      "source": [
        "## 커링 : 일부 인자만 취하기"
      ]
    },
    {
      "cell_type": "code",
      "metadata": {
        "id": "0XcNNgKr_RN6",
        "colab_type": "code",
        "colab": {}
      },
      "source": [
        "# 함수에서 일부 인자를 고정해 새로운 함수를 만드는 기법을 커링이라고 한다.\n",
        "\n",
        "def add_numbers(x, y) :\n",
        "    return x + y\n",
        "\n",
        "# 여기서 add_numbers의 두 번째 인자가 '커리되었다'라고 한다.\n",
        "add_five = lambda y: add_numbers(5, y) \n",
        "\n",
        "\n",
        "# 다음 방식으로 더 단순하게 만들 수 있다.\n",
        "from functools import partial\n",
        "add_five = partial(add_numbers, 5)"
      ],
      "execution_count": 0,
      "outputs": []
    },
    {
      "cell_type": "markdown",
      "metadata": {
        "id": "3UWwBgYb_WW_",
        "colab_type": "text"
      },
      "source": [
        "## 제너레이터"
      ]
    },
    {
      "cell_type": "markdown",
      "metadata": {
        "id": "zAu33M9t_ZL_",
        "colab_type": "text"
      },
      "source": [
        "* 이터레이터 프로토콜\n",
        "* 제너레이터\n",
        "* 제너레이터 표현식\n",
        "* itertoos 모듈"
      ]
    },
    {
      "cell_type": "markdown",
      "metadata": {
        "id": "KgRm9Xai_bX-",
        "colab_type": "text"
      },
      "source": [
        "### 이터레이터 프로토콜"
      ]
    },
    {
      "cell_type": "code",
      "metadata": {
        "id": "CuQC5Z58_IT4",
        "colab_type": "code",
        "outputId": "92e4d18c-7e1f-4410-837d-4287032c223d",
        "colab": {
          "base_uri": "https://localhost:8080/"
        }
      },
      "source": [
        "# 파이썬은 리스트 내의 객체나 파일의 각 행 같은 순차적인 자료를 순회하는 일관적인 방법을 제공한다.\n",
        "# 이터레이터 프로토콜을 이용해서 순회가 가능한 객체를 만들 수 있다.\n",
        "\n",
        "some_dict = {'a':1, 'b':2, 'c':3}\n",
        " \n",
        "# for key in some_dict 라고 작성하면 \n",
        "# 파이썬 인터프리터는 some_dict에서 이터레이터를 생성한다.    \n",
        "for key in some_dict :\n",
        "    print(key)"
      ],
      "execution_count": 0,
      "outputs": [
        {
          "output_type": "stream",
          "text": [
            "a\n",
            "b\n",
            "c\n"
          ],
          "name": "stdout"
        }
      ]
    },
    {
      "cell_type": "code",
      "metadata": {
        "id": "Gt5FZL958G1c",
        "colab_type": "code",
        "colab": {}
      },
      "source": [
        "dict_iterator = iter(some_dict)"
      ],
      "execution_count": 0,
      "outputs": []
    },
    {
      "cell_type": "code",
      "metadata": {
        "id": "BLEajoaW8SWx",
        "colab_type": "code",
        "outputId": "dc814467-e3de-4780-dba8-378ce876f1bd",
        "colab": {
          "base_uri": "https://localhost:8080/"
        }
      },
      "source": [
        "dict_iterator"
      ],
      "execution_count": 0,
      "outputs": [
        {
          "output_type": "execute_result",
          "data": {
            "text/plain": [
              "<dict_keyiterator at 0x7fdbd6714c78>"
            ]
          },
          "metadata": {
            "tags": []
          },
          "execution_count": 22
        }
      ]
    },
    {
      "cell_type": "markdown",
      "metadata": {
        "id": "819kbms18blC",
        "colab_type": "text"
      },
      "source": [
        "이터레이터는 for 문과 같은 컨텍스트에서 사용될 경우 객체를 반환한다. 리스트나 리스트와 유사한 객체를 취하는 대부분의 메서드는 순회 가능한 객체도 허용한다. 여기에는 min, max, sum 같은 내장 매서드와 list, tuple 같은 자료구조를 생성하는 메서드도 포함된다. "
      ]
    },
    {
      "cell_type": "code",
      "metadata": {
        "id": "fGCh6tol_w9n",
        "colab_type": "code",
        "outputId": "ad3f3869-a17b-4e7f-aa15-666c11b345f6",
        "colab": {
          "base_uri": "https://localhost:8080/"
        }
      },
      "source": [
        "list(dict_iterator)"
      ],
      "execution_count": 0,
      "outputs": [
        {
          "output_type": "execute_result",
          "data": {
            "text/plain": [
              "['a', 'b', 'c']"
            ]
          },
          "metadata": {
            "tags": []
          },
          "execution_count": 23
        }
      ]
    },
    {
      "cell_type": "markdown",
      "metadata": {
        "id": "X4hyDncN_zBp",
        "colab_type": "text"
      },
      "source": [
        "### 제너레이터"
      ]
    },
    {
      "cell_type": "code",
      "metadata": {
        "id": "nKlxPN41_1Lw",
        "colab_type": "code",
        "colab": {}
      },
      "source": [
        "# 제너레이터는 순회가 가능한 객체를 생성하는 간단한 방법이다.\n",
        "# 일반 함수는 실행되면 단일 값을 반환하지만\n",
        "# 제너레이터는 순차적인 값을 매 요청 시마다 하나씩 반환한다.\n",
        "# 제너레이터를 생성하려면 함수에서 return 대신에 yeild 예약어를 사용한다.\n",
        "def squares(n=10) :\n",
        "    print('Generating squares from 1 to %d' %(n ** 2))\n",
        "    for i in range(1, n+1) :\n",
        "        yield i ** 2"
      ],
      "execution_count": 0,
      "outputs": []
    },
    {
      "cell_type": "code",
      "metadata": {
        "id": "jfde6z5c_3T9",
        "colab_type": "code",
        "outputId": "be794eea-f552-4249-dec3-35e0d109ad06",
        "colab": {
          "base_uri": "https://localhost:8080/"
        }
      },
      "source": [
        "gen = squares()\n",
        "gen"
      ],
      "execution_count": 0,
      "outputs": [
        {
          "output_type": "execute_result",
          "data": {
            "text/plain": [
              "<generator object squares at 0x7fdbd73790a0>"
            ]
          },
          "metadata": {
            "tags": []
          },
          "execution_count": 25
        }
      ]
    },
    {
      "cell_type": "code",
      "metadata": {
        "id": "mAL2a9OR_5ik",
        "colab_type": "code",
        "outputId": "41465965-f69b-4180-fd75-44abbbed4b37",
        "colab": {
          "base_uri": "https://localhost:8080/"
        }
      },
      "source": [
        "for x in gen :\n",
        "    print(x) "
      ],
      "execution_count": 0,
      "outputs": [
        {
          "output_type": "stream",
          "text": [
            "Generating squares from 1 to 100\n",
            "1\n",
            "4\n",
            "9\n",
            "16\n",
            "25\n",
            "36\n",
            "49\n",
            "64\n",
            "81\n",
            "100\n"
          ],
          "name": "stdout"
        }
      ]
    },
    {
      "cell_type": "markdown",
      "metadata": {
        "id": "qoXAFLDh_7qH",
        "colab_type": "text"
      },
      "source": [
        "### 제너레이터 표현식"
      ]
    },
    {
      "cell_type": "code",
      "metadata": {
        "id": "1TIcI9lx_9tH",
        "colab_type": "code",
        "outputId": "6a591104-edcc-4168-d040-d0d6fae0d4e8",
        "colab": {
          "base_uri": "https://localhost:8080/",
          "height": 34
        }
      },
      "source": [
        "# 제너레이터를 만드는 간단한 방법은 제너레이터 표현식을 사용하는 것이다.\n",
        "gen = (x ** 2 for x in range(100))\n",
        "gen"
      ],
      "execution_count": 0,
      "outputs": [
        {
          "output_type": "execute_result",
          "data": {
            "text/plain": [
              "<generator object <genexpr> at 0x7fdbd73792b0>"
            ]
          },
          "metadata": {
            "tags": []
          },
          "execution_count": 27
        }
      ]
    },
    {
      "cell_type": "code",
      "metadata": {
        "id": "ELK9dWlM__3j",
        "colab_type": "code",
        "outputId": "9489f11d-79fc-4ef9-fc61-bd1c9667a19b",
        "colab": {
          "base_uri": "https://localhost:8080/",
          "height": 34
        }
      },
      "source": [
        "# 위의 코드는 다음 코드와 동일하다\n",
        "def _make_gen() :\n",
        "    for x in range(100) :\n",
        "        yield x ** 2\n",
        "        \n",
        "gen = _make_gen()\n",
        "gen"
      ],
      "execution_count": 0,
      "outputs": [
        {
          "output_type": "execute_result",
          "data": {
            "text/plain": [
              "<generator object _make_gen at 0x7fdbd73798e0>"
            ]
          },
          "metadata": {
            "tags": []
          },
          "execution_count": 28
        }
      ]
    },
    {
      "cell_type": "code",
      "metadata": {
        "id": "kzzaE7_yAB4N",
        "colab_type": "code",
        "outputId": "b1947b8d-eb31-4ab7-ed01-530e486cadcb",
        "colab": {
          "base_uri": "https://localhost:8080/",
          "height": 34
        }
      },
      "source": [
        "# 예제\n",
        "max(x ** 2 for x in range(100))"
      ],
      "execution_count": 0,
      "outputs": [
        {
          "output_type": "execute_result",
          "data": {
            "text/plain": [
              "9801"
            ]
          },
          "metadata": {
            "tags": []
          },
          "execution_count": 29
        }
      ]
    },
    {
      "cell_type": "code",
      "metadata": {
        "id": "moIEdvF4AD2m",
        "colab_type": "code",
        "outputId": "bc95c0af-3e35-4164-8818-bec302ad2bb0",
        "colab": {
          "base_uri": "https://localhost:8080/",
          "height": 34
        }
      },
      "source": [
        "dict((i, i**2) for i in range(5))"
      ],
      "execution_count": 0,
      "outputs": [
        {
          "output_type": "execute_result",
          "data": {
            "text/plain": [
              "{0: 0, 1: 1, 2: 4, 3: 9, 4: 16}"
            ]
          },
          "metadata": {
            "tags": []
          },
          "execution_count": 30
        }
      ]
    },
    {
      "cell_type": "markdown",
      "metadata": {
        "id": "zSkzF-O3AHHl",
        "colab_type": "text"
      },
      "source": [
        "### itertools 모듈"
      ]
    },
    {
      "cell_type": "code",
      "metadata": {
        "id": "Gb8IzIKOAF9L",
        "colab_type": "code",
        "outputId": "2544fcca-6ed5-4fde-f6cf-133c075e5c6a",
        "colab": {
          "base_uri": "https://localhost:8080/",
          "height": 85
        }
      },
      "source": [
        "# 일반 데이터 알고리즘을 위한 제너레이터를 포함\n",
        "import itertools\n",
        "\n",
        "# 예를 들어 groupby는 순차 자료 구조와 함수를 인자로 받아,\n",
        "# 인자로 받은 함수에서 반환하는 값에 따라 그룹을 지어준다.\n",
        "first_letter = lambda x : x[0]\n",
        "\n",
        "names = ['Alan', 'Adam', 'Wes', 'Will', 'Albert', 'Steven']\n",
        "\n",
        "for letter, names in itertools.groupby(names, first_letter) :\n",
        "    print(letter, list(names))\n"
      ],
      "execution_count": 0,
      "outputs": [
        {
          "output_type": "stream",
          "text": [
            "A ['Alan', 'Adam']\n",
            "W ['Wes', 'Will']\n",
            "A ['Albert']\n",
            "S ['Steven']\n"
          ],
          "name": "stdout"
        }
      ]
    },
    {
      "cell_type": "markdown",
      "metadata": {
        "id": "OGx9G5DZ9d44",
        "colab_type": "text"
      },
      "source": [
        "## 에러와 예외 처리"
      ]
    },
    {
      "cell_type": "code",
      "metadata": {
        "id": "E_clppBq9vVV",
        "colab_type": "code",
        "outputId": "6261def2-e4b6-4af8-8b9f-9450a5153251",
        "colab": {
          "base_uri": "https://localhost:8080/",
          "height": 34
        }
      },
      "source": [
        "float('1.2345')"
      ],
      "execution_count": 0,
      "outputs": [
        {
          "output_type": "execute_result",
          "data": {
            "text/plain": [
              "1.2345"
            ]
          },
          "metadata": {
            "tags": []
          },
          "execution_count": 32
        }
      ]
    },
    {
      "cell_type": "code",
      "metadata": {
        "id": "mPQ42W2992oV",
        "colab_type": "code",
        "outputId": "48b8aaaa-3eba-44da-df56-ac7b96278481",
        "colab": {
          "base_uri": "https://localhost:8080/",
          "height": 164
        }
      },
      "source": [
        "float('something')"
      ],
      "execution_count": 0,
      "outputs": [
        {
          "output_type": "error",
          "ename": "ValueError",
          "evalue": "ignored",
          "traceback": [
            "\u001b[0;31m---------------------------------------------------------------------------\u001b[0m",
            "\u001b[0;31mValueError\u001b[0m                                Traceback (most recent call last)",
            "\u001b[0;32m<ipython-input-33-2649e4ade0e6>\u001b[0m in \u001b[0;36m<module>\u001b[0;34m()\u001b[0m\n\u001b[0;32m----> 1\u001b[0;31m \u001b[0mfloat\u001b[0m\u001b[0;34m(\u001b[0m\u001b[0;34m'something'\u001b[0m\u001b[0;34m)\u001b[0m\u001b[0;34m\u001b[0m\u001b[0;34m\u001b[0m\u001b[0m\n\u001b[0m",
            "\u001b[0;31mValueError\u001b[0m: could not convert string to float: 'something'"
          ]
        }
      ]
    },
    {
      "cell_type": "code",
      "metadata": {
        "id": "QVe3BbVk97gi",
        "colab_type": "code",
        "colab": {}
      },
      "source": [
        "# try/except 블록\n",
        "def attempt_float(x):\n",
        "  try:\n",
        "    return float(x)\n",
        "  except:\n",
        "    return x"
      ],
      "execution_count": 0,
      "outputs": []
    },
    {
      "cell_type": "code",
      "metadata": {
        "id": "0c8kew1y-EYD",
        "colab_type": "code",
        "outputId": "6a620cd3-016a-4b9e-ef13-132a33671b25",
        "colab": {
          "base_uri": "https://localhost:8080/",
          "height": 34
        }
      },
      "source": [
        "attempt_float('1.2345')"
      ],
      "execution_count": 0,
      "outputs": [
        {
          "output_type": "execute_result",
          "data": {
            "text/plain": [
              "1.2345"
            ]
          },
          "metadata": {
            "tags": []
          },
          "execution_count": 35
        }
      ]
    },
    {
      "cell_type": "code",
      "metadata": {
        "id": "8LCtLSVO-UVn",
        "colab_type": "code",
        "outputId": "dfed6def-5983-44ca-bb29-db119192735a",
        "colab": {
          "base_uri": "https://localhost:8080/",
          "height": 34
        }
      },
      "source": [
        "attempt_float('something')"
      ],
      "execution_count": 0,
      "outputs": [
        {
          "output_type": "execute_result",
          "data": {
            "text/plain": [
              "'something'"
            ]
          },
          "metadata": {
            "tags": []
          },
          "execution_count": 36
        }
      ]
    },
    {
      "cell_type": "code",
      "metadata": {
        "id": "XDGAmc-m-ZFS",
        "colab_type": "code",
        "outputId": "e8d6c227-d899-4067-9523-42cb72870a59",
        "colab": {
          "base_uri": "https://localhost:8080/",
          "height": 164
        }
      },
      "source": [
        "# 발생하는 에러에는 여러 종류가 있다.\n",
        "float((1,2))"
      ],
      "execution_count": 0,
      "outputs": [
        {
          "output_type": "error",
          "ename": "TypeError",
          "evalue": "ignored",
          "traceback": [
            "\u001b[0;31m---------------------------------------------------------------------------\u001b[0m",
            "\u001b[0;31mTypeError\u001b[0m                                 Traceback (most recent call last)",
            "\u001b[0;32m<ipython-input-37-a101b3a3d6cd>\u001b[0m in \u001b[0;36m<module>\u001b[0;34m()\u001b[0m\n\u001b[0;32m----> 1\u001b[0;31m \u001b[0mfloat\u001b[0m\u001b[0;34m(\u001b[0m\u001b[0;34m(\u001b[0m\u001b[0;36m1\u001b[0m\u001b[0;34m,\u001b[0m\u001b[0;36m2\u001b[0m\u001b[0;34m)\u001b[0m\u001b[0;34m)\u001b[0m\u001b[0;34m\u001b[0m\u001b[0;34m\u001b[0m\u001b[0m\n\u001b[0m",
            "\u001b[0;31mTypeError\u001b[0m: float() argument must be a string or a number, not 'tuple'"
          ]
        }
      ]
    },
    {
      "cell_type": "code",
      "metadata": {
        "id": "8TmKXkZ8-hYl",
        "colab_type": "code",
        "colab": {}
      },
      "source": [
        "# try/except 블록 - 특정 타입의 에러만 처리하게 해보자.\n",
        "def attempt_float(x):\n",
        "  try:\n",
        "    return float(x)\n",
        "  except ValueError:\n",
        "    return x"
      ],
      "execution_count": 0,
      "outputs": []
    },
    {
      "cell_type": "code",
      "metadata": {
        "id": "lR-YhTdD-vIH",
        "colab_type": "code",
        "outputId": "e429a0d1-3eb5-42b6-f716-c7e7669d769c",
        "colab": {
          "base_uri": "https://localhost:8080/",
          "height": 283
        }
      },
      "source": [
        "attempt_float((1,2))"
      ],
      "execution_count": 0,
      "outputs": [
        {
          "output_type": "error",
          "ename": "TypeError",
          "evalue": "ignored",
          "traceback": [
            "\u001b[0;31m---------------------------------------------------------------------------\u001b[0m",
            "\u001b[0;31mTypeError\u001b[0m                                 Traceback (most recent call last)",
            "\u001b[0;32m<ipython-input-39-102527222085>\u001b[0m in \u001b[0;36m<module>\u001b[0;34m()\u001b[0m\n\u001b[0;32m----> 1\u001b[0;31m \u001b[0mattempt_float\u001b[0m\u001b[0;34m(\u001b[0m\u001b[0;34m(\u001b[0m\u001b[0;36m1\u001b[0m\u001b[0;34m,\u001b[0m\u001b[0;36m2\u001b[0m\u001b[0;34m)\u001b[0m\u001b[0;34m)\u001b[0m\u001b[0;34m\u001b[0m\u001b[0;34m\u001b[0m\u001b[0m\n\u001b[0m",
            "\u001b[0;32m<ipython-input-38-dd8724242948>\u001b[0m in \u001b[0;36mattempt_float\u001b[0;34m(x)\u001b[0m\n\u001b[1;32m      1\u001b[0m \u001b[0;32mdef\u001b[0m \u001b[0mattempt_float\u001b[0m\u001b[0;34m(\u001b[0m\u001b[0mx\u001b[0m\u001b[0;34m)\u001b[0m\u001b[0;34m:\u001b[0m\u001b[0;34m\u001b[0m\u001b[0;34m\u001b[0m\u001b[0m\n\u001b[1;32m      2\u001b[0m   \u001b[0;32mtry\u001b[0m\u001b[0;34m:\u001b[0m\u001b[0;34m\u001b[0m\u001b[0;34m\u001b[0m\u001b[0m\n\u001b[0;32m----> 3\u001b[0;31m     \u001b[0;32mreturn\u001b[0m \u001b[0mfloat\u001b[0m\u001b[0;34m(\u001b[0m\u001b[0mx\u001b[0m\u001b[0;34m)\u001b[0m\u001b[0;34m\u001b[0m\u001b[0;34m\u001b[0m\u001b[0m\n\u001b[0m\u001b[1;32m      4\u001b[0m   \u001b[0;32mexcept\u001b[0m \u001b[0mValueError\u001b[0m\u001b[0;34m:\u001b[0m\u001b[0;34m\u001b[0m\u001b[0;34m\u001b[0m\u001b[0m\n\u001b[1;32m      5\u001b[0m     \u001b[0;32mreturn\u001b[0m \u001b[0mx\u001b[0m\u001b[0;34m\u001b[0m\u001b[0;34m\u001b[0m\u001b[0m\n",
            "\u001b[0;31mTypeError\u001b[0m: float() argument must be a string or a number, not 'tuple'"
          ]
        }
      ]
    },
    {
      "cell_type": "markdown",
      "metadata": {
        "id": "KPDKPmtLiF-L",
        "colab_type": "text"
      },
      "source": [
        "---------------------------------"
      ]
    },
    {
      "cell_type": "markdown",
      "metadata": {
        "id": "NbABZw3jiIf7",
        "colab_type": "text"
      },
      "source": [
        "# 파일과 운영체제 [1, 2]\n",
        "* 파일 읽기\n",
        "* with 문 사용\n",
        "* 파일을 읽는 여러 가지 방법\n",
        "* 파일 쓰기\n",
        "* 바이트와 유니코드"
      ]
    },
    {
      "cell_type": "markdown",
      "metadata": {
        "id": "XwFQLs0_nHqu",
        "colab_type": "text"
      },
      "source": [
        "------------------------------"
      ]
    },
    {
      "cell_type": "markdown",
      "metadata": {
        "id": "bBDIUu-OnKbJ",
        "colab_type": "text"
      },
      "source": [
        "실습할 파일을 준비.(웹에서 가져오기 - urllib 사용)"
      ]
    },
    {
      "cell_type": "code",
      "metadata": {
        "id": "HufXDpaS9VTJ",
        "colab_type": "code",
        "outputId": "04a152b3-07c5-408c-b9fe-6e844a9d59f6",
        "colab": {
          "base_uri": "https://localhost:8080/",
          "height": 34
        }
      },
      "source": [
        "%ls"
      ],
      "execution_count": 0,
      "outputs": [
        {
          "output_type": "stream",
          "text": [
            "\u001b[0m\u001b[01;34msample_data\u001b[0m/\n"
          ],
          "name": "stdout"
        }
      ]
    },
    {
      "cell_type": "code",
      "metadata": {
        "id": "QE7djT7hihh5",
        "colab_type": "code",
        "colab": {}
      },
      "source": [
        "# 우선 파일을 가져와보자.\n",
        "\n",
        "## 1. 디렉토리 만들기\n",
        "import os\n",
        "\n",
        "dir_name = \"examples\"\n",
        "if not os.path.exists(dir_name) :\n",
        "  os.mkdir(dir_name)"
      ],
      "execution_count": 0,
      "outputs": []
    },
    {
      "cell_type": "code",
      "metadata": {
        "id": "_oPCi6KgjI8C",
        "colab_type": "code",
        "outputId": "8503ab8b-31e4-4816-9cc0-79128af68bad",
        "colab": {
          "base_uri": "https://localhost:8080/",
          "height": 34
        }
      },
      "source": [
        "# example 디렉토리가 생겼다.\n",
        "%ls"
      ],
      "execution_count": 0,
      "outputs": [
        {
          "output_type": "stream",
          "text": [
            "\u001b[0m\u001b[01;34mexamples\u001b[0m/  \u001b[01;34mgdrive\u001b[0m/  \u001b[01;34msample_data\u001b[0m/\n"
          ],
          "name": "stdout"
        }
      ]
    },
    {
      "cell_type": "code",
      "metadata": {
        "id": "kh54LecRjckX",
        "colab_type": "code",
        "colab": {}
      },
      "source": [
        "# 지금은 디렉토리 안에 아무 파일도 없다.\n",
        "%ls examples/"
      ],
      "execution_count": 0,
      "outputs": []
    },
    {
      "cell_type": "code",
      "metadata": {
        "id": "tEYHYFlqjM7F",
        "colab_type": "code",
        "colab": {}
      },
      "source": [
        "# 2. 파일 가져오기 - [1]의 예제소스 github의 파일들을 주소로 접근해서 가져온다.\n",
        "\n",
        "import urllib.request\n",
        "\n",
        "url = 'https://raw.githubusercontent.com/wesm/pydata-book/2nd-edition/examples/segismundo.txt'\n",
        "file_name = \"examples/segismundo.txt\" \n",
        "with urllib.request.urlopen(url) as r:\n",
        "  doc = r.read()\n",
        "  with open(file_name, \"wb\") as f:\n",
        "    f.write(doc)"
      ],
      "execution_count": 0,
      "outputs": []
    },
    {
      "cell_type": "code",
      "metadata": {
        "id": "1I9OuDudlfyP",
        "colab_type": "code",
        "outputId": "0895a562-03c3-4268-9757-1765d9053a73",
        "colab": {
          "base_uri": "https://localhost:8080/",
          "height": 34
        }
      },
      "source": [
        "# 다운로드 완료. 파일이 생겼다.\n",
        "%ls examples/"
      ],
      "execution_count": 0,
      "outputs": [
        {
          "output_type": "stream",
          "text": [
            "segismundo.txt\n"
          ],
          "name": "stdout"
        }
      ]
    },
    {
      "cell_type": "code",
      "metadata": {
        "id": "7nucMFIhmxEY",
        "colab_type": "code",
        "outputId": "ffed752a-06a3-4c96-914d-dd4b2eedf33f",
        "colab": {
          "base_uri": "https://localhost:8080/",
          "height": 255
        }
      },
      "source": [
        "# 내용를 한번 살펴보자 \n",
        "%cat examples/segismundo.txt"
      ],
      "execution_count": 0,
      "outputs": [
        {
          "output_type": "stream",
          "text": [
            "Sueña el rico en su riqueza,\n",
            "que más cuidados le ofrece;\n",
            "\n",
            "sueña el pobre que padece\n",
            "su miseria y su pobreza;\n",
            "\n",
            "sueña el que a medrar empieza,\n",
            "sueña el que afana y pretende,\n",
            "sueña el que agravia y ofende,\n",
            "\n",
            "y en el mundo, en conclusión,\n",
            "todos sueñan lo que son,\n",
            "aunque ninguno lo entiende.\n",
            "\n"
          ],
          "name": "stdout"
        }
      ]
    },
    {
      "cell_type": "markdown",
      "metadata": {
        "id": "HsrpMugXnd5I",
        "colab_type": "text"
      },
      "source": [
        "--------------"
      ]
    },
    {
      "cell_type": "markdown",
      "metadata": {
        "id": "OpC9MxToniFm",
        "colab_type": "text"
      },
      "source": [
        "## 파일 읽기"
      ]
    },
    {
      "cell_type": "markdown",
      "metadata": {
        "id": "kBmBYC79-8Ib",
        "colab_type": "text"
      },
      "source": [
        "| 파일열기모드\t| 설명 \n",
        "| :------------- | :-------------\n",
        "|r\t| 읽기모드 - 파일을 읽기만 할 때 사용\n",
        "|w\t| 쓰기모드 - 파일에 내용을 쓸 때 사용\n",
        "|a\t| 추가모드 - 파일의 마지막에 새로운 내용을 추가 시킬 때 사용"
      ]
    },
    {
      "cell_type": "markdown",
      "metadata": {
        "id": "sFbzIhiq9k66",
        "colab_type": "text"
      },
      "source": [
        "파일을 읽고 쓰기 위해서는 내장 함수인 open을 이용해서 파일의 상대 경로나 절대 경로를 넘겨주어야 한다."
      ]
    },
    {
      "cell_type": "code",
      "metadata": {
        "id": "9_S3Tioxnf-Z",
        "colab_type": "code",
        "colab": {}
      },
      "source": [
        "path = \"examples/segismundo.txt\""
      ],
      "execution_count": 0,
      "outputs": []
    },
    {
      "cell_type": "code",
      "metadata": {
        "id": "EJWUIVaPnqZz",
        "colab_type": "code",
        "colab": {}
      },
      "source": [
        "f = open(path)"
      ],
      "execution_count": 0,
      "outputs": []
    },
    {
      "cell_type": "markdown",
      "metadata": {
        "id": "4HIR5roQoI4M",
        "colab_type": "text"
      },
      "source": [
        "기본적으로 파일은 읽기 전용 모드인 'r'로 열린다. 파일 핸들 f를 리스트로 생각할 수 있으며 파일의 매 줄을 순회할 수 있다."
      ]
    },
    {
      "cell_type": "code",
      "metadata": {
        "id": "S9tvYrDTnv4g",
        "colab_type": "code",
        "outputId": "fc9456de-8dcc-42c8-fc7d-31a61fc7f00c",
        "colab": {
          "base_uri": "https://localhost:8080/",
          "height": 493
        }
      },
      "source": [
        "for line in f:\n",
        "  print(line) # 여기서 줄별로 처리할 코드를 넣으면 된다."
      ],
      "execution_count": 0,
      "outputs": [
        {
          "output_type": "stream",
          "text": [
            "Sueña el rico en su riqueza,\n",
            "\n",
            "que más cuidados le ofrece;\n",
            "\n",
            "\n",
            "\n",
            "sueña el pobre que padece\n",
            "\n",
            "su miseria y su pobreza;\n",
            "\n",
            "\n",
            "\n",
            "sueña el que a medrar empieza,\n",
            "\n",
            "sueña el que afana y pretende,\n",
            "\n",
            "sueña el que agravia y ofende,\n",
            "\n",
            "\n",
            "\n",
            "y en el mundo, en conclusión,\n",
            "\n",
            "todos sueñan lo que son,\n",
            "\n",
            "aunque ninguno lo entiende.\n",
            "\n",
            "\n",
            "\n"
          ],
          "name": "stdout"
        }
      ]
    },
    {
      "cell_type": "markdown",
      "metadata": {
        "id": "AN9CIuX8oFYU",
        "colab_type": "text"
      },
      "source": [
        "파일에서 읽은 줄은 줄끝(end-of-line, EOL) 문자가 그대로 남아 있으므로 파일에서 읽은 줄에서 이를 제거하는 다음과 같은 코드를 많이 사용한다.(string의 rstrip() 혹은 strip() 코드를 적용)"
      ]
    },
    {
      "cell_type": "code",
      "metadata": {
        "id": "x06NJ_5Dn5xS",
        "colab_type": "code",
        "colab": {}
      },
      "source": [
        "lines = [x.rstrip() for x in open(path)]"
      ],
      "execution_count": 0,
      "outputs": []
    },
    {
      "cell_type": "code",
      "metadata": {
        "id": "IQyq2H8ioBWH",
        "colab_type": "code",
        "outputId": "af256383-ded1-4bfb-fd70-80ee95299922",
        "colab": {
          "base_uri": "https://localhost:8080/",
          "height": 255
        }
      },
      "source": [
        "lines"
      ],
      "execution_count": 0,
      "outputs": [
        {
          "output_type": "execute_result",
          "data": {
            "text/plain": [
              "['Sueña el rico en su riqueza,',\n",
              " 'que más cuidados le ofrece;',\n",
              " '',\n",
              " 'sueña el pobre que padece',\n",
              " 'su miseria y su pobreza;',\n",
              " '',\n",
              " 'sueña el que a medrar empieza,',\n",
              " 'sueña el que afana y pretende,',\n",
              " 'sueña el que agravia y ofende,',\n",
              " '',\n",
              " 'y en el mundo, en conclusión,',\n",
              " 'todos sueñan lo que son,',\n",
              " 'aunque ninguno lo entiende.',\n",
              " '']"
            ]
          },
          "metadata": {
            "tags": []
          },
          "execution_count": 54
        }
      ]
    },
    {
      "cell_type": "markdown",
      "metadata": {
        "id": "DqkLAAwnpIN6",
        "colab_type": "text"
      },
      "source": [
        "파일 객체를 생성하기 위해 open을 사용했다면 작업이 끝났을 때 명시적으로 닫아주어야 한다. 파일을 닫으면 해당 자원을 운영체제로 되돌려준다."
      ]
    },
    {
      "cell_type": "code",
      "metadata": {
        "id": "1uCQg7r8pClB",
        "colab_type": "code",
        "colab": {}
      },
      "source": [
        "f.close()"
      ],
      "execution_count": 0,
      "outputs": []
    },
    {
      "cell_type": "code",
      "metadata": {
        "id": "N6QyEexkpVCd",
        "colab_type": "code",
        "colab": {}
      },
      "source": [
        "# 위의 코드들을 한번에 쓰면 다음과 같다. \n",
        "path = \"examples/segismundo.txt\"\n",
        "f = open(path)\n",
        "for line in f:\n",
        "  lines = [x.strip() for x in open(path)] # 오른쪽 끝만 정리하는 rstrip 대신에 줄의 양쪽 끝을 다 정리하는 strip 함수 사용"
      ],
      "execution_count": 0,
      "outputs": []
    },
    {
      "cell_type": "code",
      "metadata": {
        "id": "s0zYPXXC9x4x",
        "colab_type": "code",
        "outputId": "61f564a9-526b-4840-f235-ad196e0ade66",
        "colab": {
          "base_uri": "https://localhost:8080/",
          "height": 255
        }
      },
      "source": [
        "lines"
      ],
      "execution_count": 0,
      "outputs": [
        {
          "output_type": "execute_result",
          "data": {
            "text/plain": [
              "['Sueña el rico en su riqueza,',\n",
              " 'que más cuidados le ofrece;',\n",
              " '',\n",
              " 'sueña el pobre que padece',\n",
              " 'su miseria y su pobreza;',\n",
              " '',\n",
              " 'sueña el que a medrar empieza,',\n",
              " 'sueña el que afana y pretende,',\n",
              " 'sueña el que agravia y ofende,',\n",
              " '',\n",
              " 'y en el mundo, en conclusión,',\n",
              " 'todos sueñan lo que son,',\n",
              " 'aunque ninguno lo entiende.',\n",
              " '']"
            ]
          },
          "metadata": {
            "tags": []
          },
          "execution_count": 57
        }
      ]
    },
    {
      "cell_type": "markdown",
      "metadata": {
        "id": "EAJI2cnRtVAO",
        "colab_type": "text"
      },
      "source": [
        "## With 문 사용"
      ]
    },
    {
      "cell_type": "markdown",
      "metadata": {
        "id": "U9wFdNSjteZ3",
        "colab_type": "text"
      },
      "source": [
        "with 문을 사용하면 파일 작업이 끝날을 때 필요한 작업을 쉽게 처리할 수 있다."
      ]
    },
    {
      "cell_type": "code",
      "metadata": {
        "id": "E_wmCqEap3ck",
        "colab_type": "code",
        "colab": {}
      },
      "source": [
        "# 위의 코드와 동일한 기능. with 문 사용.\n",
        "# 이렇게 하면 with 블록이 끝나는 시점에 파일 핸들 f를 자동으로 닫아준다.  \n",
        "with open(path) as f:\n",
        "  lines = [x.strip() for x in f]\n"
      ],
      "execution_count": 0,
      "outputs": []
    },
    {
      "cell_type": "code",
      "metadata": {
        "id": "GgUw5M9O90kE",
        "colab_type": "code",
        "outputId": "89310a4a-8c1e-4746-c49f-b3e680a6b0d0",
        "colab": {
          "base_uri": "https://localhost:8080/",
          "height": 255
        }
      },
      "source": [
        "lines"
      ],
      "execution_count": 0,
      "outputs": [
        {
          "output_type": "execute_result",
          "data": {
            "text/plain": [
              "['Sueña el rico en su riqueza,',\n",
              " 'que más cuidados le ofrece;',\n",
              " '',\n",
              " 'sueña el pobre que padece',\n",
              " 'su miseria y su pobreza;',\n",
              " '',\n",
              " 'sueña el que a medrar empieza,',\n",
              " 'sueña el que afana y pretende,',\n",
              " 'sueña el que agravia y ofende,',\n",
              " '',\n",
              " 'y en el mundo, en conclusión,',\n",
              " 'todos sueñan lo que son,',\n",
              " 'aunque ninguno lo entiende.',\n",
              " '']"
            ]
          },
          "metadata": {
            "tags": []
          },
          "execution_count": 59
        }
      ]
    },
    {
      "cell_type": "markdown",
      "metadata": {
        "id": "Q0Z1Cqi8_mLh",
        "colab_type": "text"
      },
      "source": [
        "## 파일을 읽는 여러 가지 방법\n",
        "* readline\n",
        "* readlines\n",
        "* read\n",
        "* seek\n",
        "* tell"
      ]
    },
    {
      "cell_type": "markdown",
      "metadata": {
        "id": "ikTDjVQUAQAW",
        "colab_type": "text"
      },
      "source": [
        "### readline"
      ]
    },
    {
      "cell_type": "code",
      "metadata": {
        "id": "PvQSvAi8ARX7",
        "colab_type": "code",
        "outputId": "3999ee8a-ddf8-4af9-9b63-e34fc9328e37",
        "colab": {
          "base_uri": "https://localhost:8080/",
          "height": 51
        }
      },
      "source": [
        "# 줄 단위로 가져옴. 현재 코드는 한줄만.\n",
        "with open(path) as f:\n",
        "  line = f.readline()\n",
        "  print(line)"
      ],
      "execution_count": 0,
      "outputs": [
        {
          "output_type": "stream",
          "text": [
            "Sueña el rico en su riqueza,\n",
            "\n"
          ],
          "name": "stdout"
        }
      ]
    },
    {
      "cell_type": "code",
      "metadata": {
        "id": "NnXPSYnvAw5G",
        "colab_type": "code",
        "outputId": "1d5129ac-9b5c-47aa-af46-d9e67aa3e1c0",
        "colab": {
          "base_uri": "https://localhost:8080/",
          "height": 493
        }
      },
      "source": [
        "# 전체 다 가져오려면\n",
        "with open(path) as f:\n",
        "  while True:\n",
        "    line = f.readline()\n",
        "    if not line: break\n",
        "    print(line)"
      ],
      "execution_count": 0,
      "outputs": [
        {
          "output_type": "stream",
          "text": [
            "Sueña el rico en su riqueza,\n",
            "\n",
            "que más cuidados le ofrece;\n",
            "\n",
            "\n",
            "\n",
            "sueña el pobre que padece\n",
            "\n",
            "su miseria y su pobreza;\n",
            "\n",
            "\n",
            "\n",
            "sueña el que a medrar empieza,\n",
            "\n",
            "sueña el que afana y pretende,\n",
            "\n",
            "sueña el que agravia y ofende,\n",
            "\n",
            "\n",
            "\n",
            "y en el mundo, en conclusión,\n",
            "\n",
            "todos sueñan lo que son,\n",
            "\n",
            "aunque ninguno lo entiende.\n",
            "\n",
            "\n",
            "\n"
          ],
          "name": "stdout"
        }
      ]
    },
    {
      "cell_type": "markdown",
      "metadata": {
        "id": "dZHDNjQvBDLg",
        "colab_type": "text"
      },
      "source": [
        "### readlines"
      ]
    },
    {
      "cell_type": "code",
      "metadata": {
        "id": "IZT5VSTdBJdA",
        "colab_type": "code",
        "outputId": "3fdeafad-60be-4d64-9201-69fdc1016226",
        "colab": {
          "base_uri": "https://localhost:8080/",
          "height": 54
        }
      },
      "source": [
        "# 줄 단위로 가져오는데, 한번에 다 읽기\n",
        "with open(path) as f:\n",
        "  lines = f.readlines()\n",
        "  \n",
        "print(lines)"
      ],
      "execution_count": 0,
      "outputs": [
        {
          "output_type": "stream",
          "text": [
            "['Sueña el rico en su riqueza,\\n', 'que más cuidados le ofrece;\\n', '\\n', 'sueña el pobre que padece\\n', 'su miseria y su pobreza;\\n', '\\n', 'sueña el que a medrar empieza,\\n', 'sueña el que afana y pretende,\\n', 'sueña el que agravia y ofende,\\n', '\\n', 'y en el mundo, en conclusión,\\n', 'todos sueñan lo que son,\\n', 'aunque ninguno lo entiende.\\n', '\\n']\n"
          ],
          "name": "stdout"
        }
      ]
    },
    {
      "cell_type": "markdown",
      "metadata": {
        "id": "he7Q6feWBW2Q",
        "colab_type": "text"
      },
      "source": [
        "### read"
      ]
    },
    {
      "cell_type": "code",
      "metadata": {
        "id": "fadjpFXgBdfn",
        "colab_type": "code",
        "outputId": "6d445fc4-4287-4777-ce34-548edb21c293",
        "colab": {
          "base_uri": "https://localhost:8080/",
          "height": 272
        }
      },
      "source": [
        "# 파일 전체를 한번에 다 읽어서, 하나의 문자열로 반환.\n",
        "with open(path) as f:\n",
        "  doc = f.read()\n",
        "  \n",
        "print(doc)"
      ],
      "execution_count": 0,
      "outputs": [
        {
          "output_type": "stream",
          "text": [
            "Sueña el rico en su riqueza,\n",
            "que más cuidados le ofrece;\n",
            "\n",
            "sueña el pobre que padece\n",
            "su miseria y su pobreza;\n",
            "\n",
            "sueña el que a medrar empieza,\n",
            "sueña el que afana y pretende,\n",
            "sueña el que agravia y ofende,\n",
            "\n",
            "y en el mundo, en conclusión,\n",
            "todos sueñan lo que son,\n",
            "aunque ninguno lo entiende.\n",
            "\n",
            "\n"
          ],
          "name": "stdout"
        }
      ]
    },
    {
      "cell_type": "code",
      "metadata": {
        "id": "sxOgyXkuDbyI",
        "colab_type": "code",
        "outputId": "2403e891-0018-43c6-9744-df088a52223d",
        "colab": {
          "base_uri": "https://localhost:8080/",
          "height": 34
        }
      },
      "source": [
        "# 특정 개수만큼의 문자까지만 읽을 수도 있다.\n",
        "# '문자'는 인코딩(UTF-8)으로 결정되거나 이진 모드일 경우 단순히 바이트로 결정된다.\n",
        "with open(path) as f:\n",
        "  s = f.read(10)\n",
        "  \n",
        "print(s)"
      ],
      "execution_count": 0,
      "outputs": [
        {
          "output_type": "stream",
          "text": [
            "Sueña el r\n"
          ],
          "name": "stdout"
        }
      ]
    },
    {
      "cell_type": "code",
      "metadata": {
        "id": "tUUjMXOeD4pD",
        "colab_type": "code",
        "outputId": "320ea50e-d8ce-47bb-d4c4-795143478479",
        "colab": {
          "base_uri": "https://localhost:8080/",
          "height": 34
        }
      },
      "source": [
        "with open(path, 'rb') as f: # 이진 모드\n",
        "  s = f.read(10)\n",
        "  \n",
        "print(s)"
      ],
      "execution_count": 0,
      "outputs": [
        {
          "output_type": "stream",
          "text": [
            "b'Sue\\xc3\\xb1a el '\n"
          ],
          "name": "stdout"
        }
      ]
    },
    {
      "cell_type": "markdown",
      "metadata": {
        "id": "IVcFXFXUEV5Y",
        "colab_type": "text"
      },
      "source": [
        "### tell"
      ]
    },
    {
      "cell_type": "code",
      "metadata": {
        "id": "997KMKXHElJb",
        "colab_type": "code",
        "outputId": "7d80e848-55ec-4f16-b696-4057c88f4f86",
        "colab": {
          "base_uri": "https://localhost:8080/",
          "height": 51
        }
      },
      "source": [
        "# read 메서드는 읽은 바이트만큼 파일 핸들의 위치를 옮긴다. \n",
        "# tell 메서드는 현재 위치를 알려준다.\n",
        "with open(path) as f:\n",
        "  s = f.read(10)\n",
        "  print(f.tell())\n",
        "  \n",
        "print(s)"
      ],
      "execution_count": 0,
      "outputs": [
        {
          "output_type": "stream",
          "text": [
            "11\n",
            "Sueña el r\n"
          ],
          "name": "stdout"
        }
      ]
    },
    {
      "cell_type": "markdown",
      "metadata": {
        "id": "aN6rRpzpFfwj",
        "colab_type": "text"
      },
      "source": [
        "위의 경우 파일에서 10개의 문자를 읽었어도 위치가 11인 이유는 기본 인코딩에서 10개의 문자를 디코딩하기 위해 그 만큼의 바이트가 필요했기 때문이다. "
      ]
    },
    {
      "cell_type": "code",
      "metadata": {
        "id": "ha-PEhCKFZhM",
        "colab_type": "code",
        "outputId": "ebc94c73-188e-4090-edd2-054a08fe1cae",
        "colab": {
          "base_uri": "https://localhost:8080/",
          "height": 51
        }
      },
      "source": [
        "# 이진 모드에서는 정확히 나온다.\n",
        "with open(path, 'rb') as f: # 이진 모드\n",
        "  s = f.read(10)\n",
        "  print(f.tell())\n",
        "  \n",
        "print(s)"
      ],
      "execution_count": 0,
      "outputs": [
        {
          "output_type": "stream",
          "text": [
            "10\n",
            "b'Sue\\xc3\\xb1a el '\n"
          ],
          "name": "stdout"
        }
      ]
    },
    {
      "cell_type": "markdown",
      "metadata": {
        "id": "yqSPUZVoGFwR",
        "colab_type": "text"
      },
      "source": [
        "시스템의 기본 인코딩은 sys 모듈에서 확인할 수 있다."
      ]
    },
    {
      "cell_type": "code",
      "metadata": {
        "id": "co6K8nIPF_0j",
        "colab_type": "code",
        "outputId": "5e52abf0-2c26-4e29-d743-e4dc45a78177",
        "colab": {
          "base_uri": "https://localhost:8080/",
          "height": 34
        }
      },
      "source": [
        "import sys\n",
        "\n",
        "sys.getdefaultencoding()"
      ],
      "execution_count": 0,
      "outputs": [
        {
          "output_type": "execute_result",
          "data": {
            "text/plain": [
              "'utf-8'"
            ]
          },
          "metadata": {
            "tags": []
          },
          "execution_count": 68
        }
      ]
    },
    {
      "cell_type": "markdown",
      "metadata": {
        "id": "7WhG4LubGMZ0",
        "colab_type": "text"
      },
      "source": [
        "### seek"
      ]
    },
    {
      "cell_type": "code",
      "metadata": {
        "id": "3F1KCKLxGRcm",
        "colab_type": "code",
        "outputId": "a6685234-5392-4cf6-b206-50d27abd392f",
        "colab": {
          "base_uri": "https://localhost:8080/",
          "height": 34
        }
      },
      "source": [
        "# seek 메서드는 파일 핸들의 위치를 해당 파일에서 지정한 바이트 위치로 옮긴다.\n",
        "with open(path) as f: \n",
        "  f.seek(3)\n",
        "  s = f.read(10)\n",
        "  \n",
        "print(s)"
      ],
      "execution_count": 0,
      "outputs": [
        {
          "output_type": "stream",
          "text": [
            "ña el rico\n"
          ],
          "name": "stdout"
        }
      ]
    },
    {
      "cell_type": "markdown",
      "metadata": {
        "id": "DnGmQdWBGxT9",
        "colab_type": "text"
      },
      "source": [
        "## 파일 쓰기"
      ]
    },
    {
      "cell_type": "markdown",
      "metadata": {
        "id": "8DxwFOxDJbuK",
        "colab_type": "text"
      },
      "source": [
        "파일에 텍스트를 기록하려면 'w' 옵션으로 쓰기모드로 파일을 만들고, write나 writenlines 메서드를 이용하면 된다."
      ]
    },
    {
      "cell_type": "code",
      "metadata": {
        "id": "ESpX4SLjJUr9",
        "colab_type": "code",
        "colab": {}
      },
      "source": [
        "# 쓸 파일 이름\n",
        "dst_path = \"examples/tmp.txt\""
      ],
      "execution_count": 0,
      "outputs": []
    },
    {
      "cell_type": "code",
      "metadata": {
        "id": "hoOfTzNbJxyZ",
        "colab_type": "code",
        "outputId": "e946945f-19f8-4663-959b-0ca26392b243",
        "colab": {
          "base_uri": "https://localhost:8080/",
          "height": 34
        }
      },
      "source": [
        "# 아직은 파일이 생성되지 않았다. \n",
        "%ls examples/"
      ],
      "execution_count": 0,
      "outputs": [
        {
          "output_type": "stream",
          "text": [
            "segismundo.txt\n"
          ],
          "name": "stdout"
        }
      ]
    },
    {
      "cell_type": "code",
      "metadata": {
        "id": "3x2qf3Q9J6MO",
        "colab_type": "code",
        "colab": {}
      },
      "source": [
        "# 빈 파일 생성\n",
        "with open(dst_path, 'w') as f:\n",
        "  pass # 아무것도 하지 않는다."
      ],
      "execution_count": 0,
      "outputs": []
    },
    {
      "cell_type": "code",
      "metadata": {
        "id": "gjPASvATKFwd",
        "colab_type": "code",
        "outputId": "57709f57-be3f-43e8-c8a4-8a8a23488d58",
        "colab": {
          "base_uri": "https://localhost:8080/",
          "height": 34
        }
      },
      "source": [
        "# 새 파일이 생성되었다. \n",
        "%ls examples/"
      ],
      "execution_count": 0,
      "outputs": [
        {
          "output_type": "stream",
          "text": [
            "segismundo.txt  tmp.txt\n"
          ],
          "name": "stdout"
        }
      ]
    },
    {
      "cell_type": "code",
      "metadata": {
        "id": "uI7beXgRKJuj",
        "colab_type": "code",
        "colab": {}
      },
      "source": [
        "# 파일 안에는 아무것도 쓰여지지 않았다.\n",
        "%cat examples/tmp.txt"
      ],
      "execution_count": 0,
      "outputs": []
    },
    {
      "cell_type": "code",
      "metadata": {
        "id": "ZMTaeaHtKT35",
        "colab_type": "code",
        "colab": {}
      },
      "source": [
        "with open(dst_path, 'w') as f:\n",
        "  f.write(\"Hello world!\") # write 메서드는 줄 뛰우기('\\n')는 해주지 않는다\n",
        "  f.write(\"Hello Python!\\n\") # 줄 뛰우기('\\n')를 직접 해줘야 한다.\n",
        "  f.write(\"Hello PsyPy!\")"
      ],
      "execution_count": 0,
      "outputs": []
    },
    {
      "cell_type": "code",
      "metadata": {
        "id": "y8EbeeTsK6jW",
        "colab_type": "code",
        "outputId": "f2f13b68-77df-4758-cbb4-d7feeb6e8521",
        "colab": {
          "base_uri": "https://localhost:8080/",
          "height": 51
        }
      },
      "source": [
        "%cat examples/tmp.txt"
      ],
      "execution_count": 0,
      "outputs": [
        {
          "output_type": "stream",
          "text": [
            "Hello world!Hello Python!\n",
            "Hello PsyPy!"
          ],
          "name": "stdout"
        }
      ]
    },
    {
      "cell_type": "code",
      "metadata": {
        "id": "ohqYAL5nLGTl",
        "colab_type": "code",
        "colab": {}
      },
      "source": [
        "# 'w' 모드로 열면 원래 파일의 내용을 덮어써버린다. \n",
        "with open(dst_path, 'w') as f:\n",
        "  f.write(\"Hi PsyPy~\")"
      ],
      "execution_count": 0,
      "outputs": []
    },
    {
      "cell_type": "code",
      "metadata": {
        "id": "mQU5AcmVLW9r",
        "colab_type": "code",
        "outputId": "de533084-db2e-42e2-87a2-8d5251a44130",
        "colab": {
          "base_uri": "https://localhost:8080/",
          "height": 34
        }
      },
      "source": [
        "%cat examples/tmp.txt"
      ],
      "execution_count": 0,
      "outputs": [
        {
          "output_type": "stream",
          "text": [
            "Hi PsyPy~"
          ],
          "name": "stdout"
        }
      ]
    },
    {
      "cell_type": "code",
      "metadata": {
        "id": "Tvmcst39LnwF",
        "colab_type": "code",
        "colab": {}
      },
      "source": [
        "# 'a' 모드로 열면 원래 파일의 내용에 이어서 쓴다. \n",
        "with open(dst_path, 'a') as f:\n",
        "  f.write(\"!!!\")"
      ],
      "execution_count": 0,
      "outputs": []
    },
    {
      "cell_type": "code",
      "metadata": {
        "id": "rn6g-pIDL7Ex",
        "colab_type": "code",
        "outputId": "a22950d9-9936-4ba4-a21a-b273dd6de38a",
        "colab": {
          "base_uri": "https://localhost:8080/",
          "height": 34
        }
      },
      "source": [
        "%cat examples/tmp.txt"
      ],
      "execution_count": 0,
      "outputs": [
        {
          "output_type": "stream",
          "text": [
            "Hi PsyPy~!!!"
          ],
          "name": "stdout"
        }
      ]
    },
    {
      "cell_type": "code",
      "metadata": {
        "id": "QVlRnCdJL-YX",
        "colab_type": "code",
        "colab": {}
      },
      "source": [
        "# 'a' 모드로 열었는데 해당 이름의 파일이 없으면 새로 만들어서 쓴다.\n",
        "with open(\"examples/tmp2.txt\", 'a') as f:\n",
        "  f.write(\"!!!\")"
      ],
      "execution_count": 0,
      "outputs": []
    },
    {
      "cell_type": "code",
      "metadata": {
        "id": "7z26jsAVNaSp",
        "colab_type": "code",
        "outputId": "e4497bef-2271-4122-d491-6c1fb45fba43",
        "colab": {
          "base_uri": "https://localhost:8080/",
          "height": 34
        }
      },
      "source": [
        "%ls examples"
      ],
      "execution_count": 0,
      "outputs": [
        {
          "output_type": "stream",
          "text": [
            "segismundo.txt  tmp2.txt  tmp.txt\n"
          ],
          "name": "stdout"
        }
      ]
    },
    {
      "cell_type": "code",
      "metadata": {
        "id": "EiTTAIXvNeOi",
        "colab_type": "code",
        "outputId": "0465d2af-ed72-4298-db36-9e7af41265e7",
        "colab": {
          "base_uri": "https://localhost:8080/",
          "height": 34
        }
      },
      "source": [
        "%cat examples/tmp2.txt"
      ],
      "execution_count": 0,
      "outputs": [
        {
          "output_type": "stream",
          "text": [
            "!!!"
          ],
          "name": "stdout"
        }
      ]
    },
    {
      "cell_type": "code",
      "metadata": {
        "id": "ZiRbck0AOLLR",
        "colab_type": "code",
        "colab": {}
      },
      "source": [
        "# 모든 줄을 한번에 다 쓰려면 writelines 메서드를 써보자.\n",
        "# 다음의 내용은 원래 파일에서 빈 줄이 포함되지 않도록 제거하고 새 파일로 쓰는 예제이다.\n",
        "\n",
        "with open(dst_path, 'w') as f :\n",
        "  f.writelines(x for x in open(path) if len(x) > 1)"
      ],
      "execution_count": 0,
      "outputs": []
    },
    {
      "cell_type": "code",
      "metadata": {
        "id": "p9DrBHKYO4Nm",
        "colab_type": "code",
        "outputId": "1c2f088c-5a51-4301-f1bb-bdacfcd355c7",
        "colab": {
          "base_uri": "https://localhost:8080/",
          "height": 187
        }
      },
      "source": [
        "# 빈 줄들을 제거하고 쓴 새 파일 내용\n",
        "%cat examples/tmp.txt"
      ],
      "execution_count": 0,
      "outputs": [
        {
          "output_type": "stream",
          "text": [
            "Sueña el rico en su riqueza,\n",
            "que más cuidados le ofrece;\n",
            "sueña el pobre que padece\n",
            "su miseria y su pobreza;\n",
            "sueña el que a medrar empieza,\n",
            "sueña el que afana y pretende,\n",
            "sueña el que agravia y ofende,\n",
            "y en el mundo, en conclusión,\n",
            "todos sueñan lo que son,\n",
            "aunque ninguno lo entiende.\n"
          ],
          "name": "stdout"
        }
      ]
    },
    {
      "cell_type": "code",
      "metadata": {
        "id": "XxGWqM3wO-ND",
        "colab_type": "code",
        "outputId": "6fc1a826-3696-4f80-d5c5-b3f013473ff2",
        "colab": {
          "base_uri": "https://localhost:8080/",
          "height": 255
        }
      },
      "source": [
        "# 원본 파일 내용\n",
        "%cat examples/segismundo.txt"
      ],
      "execution_count": 0,
      "outputs": [
        {
          "output_type": "stream",
          "text": [
            "Sueña el rico en su riqueza,\n",
            "que más cuidados le ofrece;\n",
            "\n",
            "sueña el pobre que padece\n",
            "su miseria y su pobreza;\n",
            "\n",
            "sueña el que a medrar empieza,\n",
            "sueña el que afana y pretende,\n",
            "sueña el que agravia y ofende,\n",
            "\n",
            "y en el mundo, en conclusión,\n",
            "todos sueñan lo que son,\n",
            "aunque ninguno lo entiende.\n",
            "\n"
          ],
          "name": "stdout"
        }
      ]
    },
    {
      "cell_type": "markdown",
      "metadata": {
        "id": "zVE7u2a2_AKK",
        "colab_type": "text"
      },
      "source": [
        "## 바이트와 유니코드"
      ]
    },
    {
      "cell_type": "code",
      "metadata": {
        "id": "PGIQqCUB_ESO",
        "colab_type": "code",
        "colab": {}
      },
      "source": [
        "# UTF-8 인코딩을 사용하는 비-아스키 문자가 포함된 파일을\n",
        "# 텍스트 모드로 읽기\n",
        "with open(path) as f:\n",
        "  chars = f.read(10)"
      ],
      "execution_count": 0,
      "outputs": []
    },
    {
      "cell_type": "code",
      "metadata": {
        "id": "UwVeluRI_5vE",
        "colab_type": "code",
        "outputId": "5bc54218-32bb-43b2-a723-0077e4f0ddd9",
        "colab": {
          "base_uri": "https://localhost:8080/",
          "height": 34
        }
      },
      "source": [
        "chars # UTF-8은 가변길이 유니코드 인코딩이므로 파일에서 일부 문자를 읽어오도록 한다면 \n",
        "      # 파이썬은 파일에서 필요한 만큼의 바이트(최소 10바이트에서 최대 40바이트까지 될 수 있다)를 읽은 다음\n",
        "      # 10문자로 디코딩한다."
      ],
      "execution_count": 0,
      "outputs": [
        {
          "output_type": "execute_result",
          "data": {
            "text/plain": [
              "'Sueña el r'"
            ]
          },
          "metadata": {
            "tags": []
          },
          "execution_count": 91
        }
      ]
    },
    {
      "cell_type": "code",
      "metadata": {
        "id": "ltaCjxfMAWY2",
        "colab_type": "code",
        "colab": {}
      },
      "source": [
        "# 만일 파일을 'rb' 모드로 열었다면 read는 딱 10바이트만 읽어올 것이다.\n",
        "with open(path, 'rb') as f:\n",
        "  data = f.read(10)"
      ],
      "execution_count": 0,
      "outputs": []
    },
    {
      "cell_type": "code",
      "metadata": {
        "id": "PGm7fbAEAiko",
        "colab_type": "code",
        "outputId": "cc4898d9-0e28-409c-9cef-cd90345d0383",
        "colab": {
          "base_uri": "https://localhost:8080/",
          "height": 34
        }
      },
      "source": [
        "data"
      ],
      "execution_count": 0,
      "outputs": [
        {
          "output_type": "execute_result",
          "data": {
            "text/plain": [
              "b'Sue\\xc3\\xb1a el '"
            ]
          },
          "metadata": {
            "tags": []
          },
          "execution_count": 93
        }
      ]
    },
    {
      "cell_type": "code",
      "metadata": {
        "id": "CnsGcS7GA9Op",
        "colab_type": "code",
        "outputId": "c54621e2-f9e9-4452-d0e7-4a516f9dad25",
        "colab": {
          "base_uri": "https://localhost:8080/",
          "height": 34
        }
      },
      "source": [
        "# 텍스트 인코딩에 따라 읽어온 바이트를 str 객체로 직접 디코딩할 수도 있다.\n",
        "data.decode('utf8')"
      ],
      "execution_count": 0,
      "outputs": [
        {
          "output_type": "execute_result",
          "data": {
            "text/plain": [
              "'Sueña el '"
            ]
          },
          "metadata": {
            "tags": []
          },
          "execution_count": 94
        }
      ]
    },
    {
      "cell_type": "code",
      "metadata": {
        "id": "ypTuEG4bBcxH",
        "colab_type": "code",
        "outputId": "17a08130-3e8c-45fd-cf85-8065c03a8779",
        "colab": {
          "base_uri": "https://localhost:8080/",
          "height": 34
        }
      },
      "source": [
        "# 다만 온전한 유니코드 문자로 인코딩되어 있을 경우만 가능하다.\n",
        "data[:4]"
      ],
      "execution_count": 0,
      "outputs": [
        {
          "output_type": "execute_result",
          "data": {
            "text/plain": [
              "b'Sue\\xc3'"
            ]
          },
          "metadata": {
            "tags": []
          },
          "execution_count": 95
        }
      ]
    },
    {
      "cell_type": "code",
      "metadata": {
        "id": "9U3yQTRPBjxr",
        "colab_type": "code",
        "outputId": "0fefcf99-2488-4c91-f269-b00aa7c1cd4c",
        "colab": {
          "base_uri": "https://localhost:8080/",
          "height": 164
        }
      },
      "source": [
        "data[:4].decode('utf8')"
      ],
      "execution_count": 0,
      "outputs": [
        {
          "output_type": "error",
          "ename": "UnicodeDecodeError",
          "evalue": "ignored",
          "traceback": [
            "\u001b[0;31m---------------------------------------------------------------------------\u001b[0m",
            "\u001b[0;31mUnicodeDecodeError\u001b[0m                        Traceback (most recent call last)",
            "\u001b[0;32m<ipython-input-96-0ad9ad6a11bd>\u001b[0m in \u001b[0;36m<module>\u001b[0;34m()\u001b[0m\n\u001b[0;32m----> 1\u001b[0;31m \u001b[0mdata\u001b[0m\u001b[0;34m[\u001b[0m\u001b[0;34m:\u001b[0m\u001b[0;36m4\u001b[0m\u001b[0;34m]\u001b[0m\u001b[0;34m.\u001b[0m\u001b[0mdecode\u001b[0m\u001b[0;34m(\u001b[0m\u001b[0;34m'utf8'\u001b[0m\u001b[0;34m)\u001b[0m\u001b[0;34m\u001b[0m\u001b[0;34m\u001b[0m\u001b[0m\n\u001b[0m",
            "\u001b[0;31mUnicodeDecodeError\u001b[0m: 'utf-8' codec can't decode byte 0xc3 in position 3: unexpected end of data"
          ]
        }
      ]
    },
    {
      "cell_type": "code",
      "metadata": {
        "id": "y-WwlzLnBpyv",
        "colab_type": "code",
        "colab": {}
      },
      "source": [
        "# open 메서드에서 encoding 옵션을 지정한 텍스트 모드에선즌 유니코드 인코딩을 다른 인코딩으로 쉽게 변경할 수 있는 방법을 제공한다.\n",
        "sink_path = 'examples/sink.txt'\n",
        "\n",
        "with open(path) as source:\n",
        "  with open(sink_path, 'xt', encoding='iso-8859-1') as sink:\n",
        "    sink.write(source.read())\n"
      ],
      "execution_count": 0,
      "outputs": []
    },
    {
      "cell_type": "code",
      "metadata": {
        "id": "3PbrPu9FCJyH",
        "colab_type": "code",
        "outputId": "7ed02662-ba03-4245-f185-c6ad7d66346a",
        "colab": {
          "base_uri": "https://localhost:8080/",
          "height": 334
        }
      },
      "source": [
        "# sink.txt 파일은 utf-8 인코딩이 아니다.\n",
        "%cat examples/sink.txt"
      ],
      "execution_count": 0,
      "outputs": [
        {
          "output_type": "error",
          "ename": "UnicodeDecodeError",
          "evalue": "ignored",
          "traceback": [
            "\u001b[0;31m---------------------------------------------------------------------------\u001b[0m",
            "\u001b[0;31mUnicodeDecodeError\u001b[0m                        Traceback (most recent call last)",
            "\u001b[0;32m<ipython-input-98-9d48a14cf9d8>\u001b[0m in \u001b[0;36m<module>\u001b[0;34m()\u001b[0m\n\u001b[0;32m----> 1\u001b[0;31m \u001b[0mget_ipython\u001b[0m\u001b[0;34m(\u001b[0m\u001b[0;34m)\u001b[0m\u001b[0;34m.\u001b[0m\u001b[0mmagic\u001b[0m\u001b[0;34m(\u001b[0m\u001b[0;34m'cat examples/sink.txt'\u001b[0m\u001b[0;34m)\u001b[0m\u001b[0;34m\u001b[0m\u001b[0;34m\u001b[0m\u001b[0m\n\u001b[0m",
            "\u001b[0;32m/usr/local/lib/python3.6/dist-packages/IPython/core/interactiveshell.py\u001b[0m in \u001b[0;36mmagic\u001b[0;34m(self, arg_s)\u001b[0m\n\u001b[1;32m   2158\u001b[0m         \u001b[0mmagic_name\u001b[0m\u001b[0;34m,\u001b[0m \u001b[0m_\u001b[0m\u001b[0;34m,\u001b[0m \u001b[0mmagic_arg_s\u001b[0m \u001b[0;34m=\u001b[0m \u001b[0marg_s\u001b[0m\u001b[0;34m.\u001b[0m\u001b[0mpartition\u001b[0m\u001b[0;34m(\u001b[0m\u001b[0;34m' '\u001b[0m\u001b[0;34m)\u001b[0m\u001b[0;34m\u001b[0m\u001b[0;34m\u001b[0m\u001b[0m\n\u001b[1;32m   2159\u001b[0m         \u001b[0mmagic_name\u001b[0m \u001b[0;34m=\u001b[0m \u001b[0mmagic_name\u001b[0m\u001b[0;34m.\u001b[0m\u001b[0mlstrip\u001b[0m\u001b[0;34m(\u001b[0m\u001b[0mprefilter\u001b[0m\u001b[0;34m.\u001b[0m\u001b[0mESC_MAGIC\u001b[0m\u001b[0;34m)\u001b[0m\u001b[0;34m\u001b[0m\u001b[0;34m\u001b[0m\u001b[0m\n\u001b[0;32m-> 2160\u001b[0;31m         \u001b[0;32mreturn\u001b[0m \u001b[0mself\u001b[0m\u001b[0;34m.\u001b[0m\u001b[0mrun_line_magic\u001b[0m\u001b[0;34m(\u001b[0m\u001b[0mmagic_name\u001b[0m\u001b[0;34m,\u001b[0m \u001b[0mmagic_arg_s\u001b[0m\u001b[0;34m)\u001b[0m\u001b[0;34m\u001b[0m\u001b[0;34m\u001b[0m\u001b[0m\n\u001b[0m\u001b[1;32m   2161\u001b[0m \u001b[0;34m\u001b[0m\u001b[0m\n\u001b[1;32m   2162\u001b[0m     \u001b[0;31m#-------------------------------------------------------------------------\u001b[0m\u001b[0;34m\u001b[0m\u001b[0;34m\u001b[0m\u001b[0;34m\u001b[0m\u001b[0m\n",
            "\u001b[0;32m/usr/local/lib/python3.6/dist-packages/IPython/core/interactiveshell.py\u001b[0m in \u001b[0;36mrun_line_magic\u001b[0;34m(self, magic_name, line)\u001b[0m\n\u001b[1;32m   2079\u001b[0m                 \u001b[0mkwargs\u001b[0m\u001b[0;34m[\u001b[0m\u001b[0;34m'local_ns'\u001b[0m\u001b[0;34m]\u001b[0m \u001b[0;34m=\u001b[0m \u001b[0msys\u001b[0m\u001b[0;34m.\u001b[0m\u001b[0m_getframe\u001b[0m\u001b[0;34m(\u001b[0m\u001b[0mstack_depth\u001b[0m\u001b[0;34m)\u001b[0m\u001b[0;34m.\u001b[0m\u001b[0mf_locals\u001b[0m\u001b[0;34m\u001b[0m\u001b[0;34m\u001b[0m\u001b[0m\n\u001b[1;32m   2080\u001b[0m             \u001b[0;32mwith\u001b[0m \u001b[0mself\u001b[0m\u001b[0;34m.\u001b[0m\u001b[0mbuiltin_trap\u001b[0m\u001b[0;34m:\u001b[0m\u001b[0;34m\u001b[0m\u001b[0;34m\u001b[0m\u001b[0m\n\u001b[0;32m-> 2081\u001b[0;31m                 \u001b[0mresult\u001b[0m \u001b[0;34m=\u001b[0m \u001b[0mfn\u001b[0m\u001b[0;34m(\u001b[0m\u001b[0;34m*\u001b[0m\u001b[0margs\u001b[0m\u001b[0;34m,\u001b[0m\u001b[0;34m**\u001b[0m\u001b[0mkwargs\u001b[0m\u001b[0;34m)\u001b[0m\u001b[0;34m\u001b[0m\u001b[0;34m\u001b[0m\u001b[0m\n\u001b[0m\u001b[1;32m   2082\u001b[0m             \u001b[0;32mreturn\u001b[0m \u001b[0mresult\u001b[0m\u001b[0;34m\u001b[0m\u001b[0;34m\u001b[0m\u001b[0m\n\u001b[1;32m   2083\u001b[0m \u001b[0;34m\u001b[0m\u001b[0m\n",
            "\u001b[0;32m/usr/local/lib/python3.6/dist-packages/IPython/core/alias.py\u001b[0m in \u001b[0;36m__call__\u001b[0;34m(self, rest)\u001b[0m\n\u001b[1;32m    185\u001b[0m             \u001b[0mcmd\u001b[0m \u001b[0;34m=\u001b[0m \u001b[0;34m'%s %s'\u001b[0m \u001b[0;34m%\u001b[0m \u001b[0;34m(\u001b[0m\u001b[0mcmd\u001b[0m \u001b[0;34m%\u001b[0m \u001b[0mtuple\u001b[0m\u001b[0;34m(\u001b[0m\u001b[0margs\u001b[0m\u001b[0;34m[\u001b[0m\u001b[0;34m:\u001b[0m\u001b[0mnargs\u001b[0m\u001b[0;34m]\u001b[0m\u001b[0;34m)\u001b[0m\u001b[0;34m,\u001b[0m\u001b[0;34m' '\u001b[0m\u001b[0;34m.\u001b[0m\u001b[0mjoin\u001b[0m\u001b[0;34m(\u001b[0m\u001b[0margs\u001b[0m\u001b[0;34m[\u001b[0m\u001b[0mnargs\u001b[0m\u001b[0;34m:\u001b[0m\u001b[0;34m]\u001b[0m\u001b[0;34m)\u001b[0m\u001b[0;34m)\u001b[0m\u001b[0;34m\u001b[0m\u001b[0;34m\u001b[0m\u001b[0m\n\u001b[1;32m    186\u001b[0m \u001b[0;34m\u001b[0m\u001b[0m\n\u001b[0;32m--> 187\u001b[0;31m         \u001b[0mself\u001b[0m\u001b[0;34m.\u001b[0m\u001b[0mshell\u001b[0m\u001b[0;34m.\u001b[0m\u001b[0msystem\u001b[0m\u001b[0;34m(\u001b[0m\u001b[0mcmd\u001b[0m\u001b[0;34m)\u001b[0m\u001b[0;34m\u001b[0m\u001b[0;34m\u001b[0m\u001b[0m\n\u001b[0m\u001b[1;32m    188\u001b[0m \u001b[0;34m\u001b[0m\u001b[0m\n\u001b[1;32m    189\u001b[0m \u001b[0;31m#-----------------------------------------------------------------------------\u001b[0m\u001b[0;34m\u001b[0m\u001b[0;34m\u001b[0m\u001b[0;34m\u001b[0m\u001b[0m\n",
            "\u001b[0;32m/usr/local/lib/python3.6/dist-packages/google/colab/_shell.py\u001b[0m in \u001b[0;36msystem\u001b[0;34m(self, *args, **kwargs)\u001b[0m\n\u001b[1;32m     94\u001b[0m       \u001b[0mkwargs\u001b[0m\u001b[0;34m.\u001b[0m\u001b[0mupdate\u001b[0m\u001b[0;34m(\u001b[0m\u001b[0;34m{\u001b[0m\u001b[0;34m'also_return_output'\u001b[0m\u001b[0;34m:\u001b[0m \u001b[0;32mTrue\u001b[0m\u001b[0;34m}\u001b[0m\u001b[0;34m)\u001b[0m\u001b[0;34m\u001b[0m\u001b[0;34m\u001b[0m\u001b[0m\n\u001b[1;32m     95\u001b[0m \u001b[0;34m\u001b[0m\u001b[0m\n\u001b[0;32m---> 96\u001b[0;31m     \u001b[0moutput\u001b[0m \u001b[0;34m=\u001b[0m \u001b[0m_system_commands\u001b[0m\u001b[0;34m.\u001b[0m\u001b[0m_system_compat\u001b[0m\u001b[0;34m(\u001b[0m\u001b[0mself\u001b[0m\u001b[0;34m,\u001b[0m \u001b[0;34m*\u001b[0m\u001b[0margs\u001b[0m\u001b[0;34m,\u001b[0m \u001b[0;34m**\u001b[0m\u001b[0mkwargs\u001b[0m\u001b[0;34m)\u001b[0m  \u001b[0;31m# pylint:disable=protected-access\u001b[0m\u001b[0;34m\u001b[0m\u001b[0;34m\u001b[0m\u001b[0m\n\u001b[0m\u001b[1;32m     97\u001b[0m \u001b[0;34m\u001b[0m\u001b[0m\n\u001b[1;32m     98\u001b[0m     \u001b[0;32mif\u001b[0m \u001b[0mpip_warn\u001b[0m\u001b[0;34m:\u001b[0m\u001b[0;34m\u001b[0m\u001b[0;34m\u001b[0m\u001b[0m\n",
            "\u001b[0;32m/usr/local/lib/python3.6/dist-packages/google/colab/_system_commands.py\u001b[0m in \u001b[0;36m_system_compat\u001b[0;34m(shell, cmd, also_return_output)\u001b[0m\n\u001b[1;32m    436\u001b[0m   \u001b[0;31m# stack.\u001b[0m\u001b[0;34m\u001b[0m\u001b[0;34m\u001b[0m\u001b[0;34m\u001b[0m\u001b[0m\n\u001b[1;32m    437\u001b[0m   result = _run_command(\n\u001b[0;32m--> 438\u001b[0;31m       shell.var_expand(cmd, depth=2), clear_streamed_output=False)\n\u001b[0m\u001b[1;32m    439\u001b[0m   \u001b[0mshell\u001b[0m\u001b[0;34m.\u001b[0m\u001b[0muser_ns\u001b[0m\u001b[0;34m[\u001b[0m\u001b[0;34m'_exit_code'\u001b[0m\u001b[0;34m]\u001b[0m \u001b[0;34m=\u001b[0m \u001b[0mresult\u001b[0m\u001b[0;34m.\u001b[0m\u001b[0mreturncode\u001b[0m\u001b[0;34m\u001b[0m\u001b[0;34m\u001b[0m\u001b[0m\n\u001b[1;32m    440\u001b[0m   \u001b[0;32mif\u001b[0m \u001b[0;34m-\u001b[0m\u001b[0mresult\u001b[0m\u001b[0;34m.\u001b[0m\u001b[0mreturncode\u001b[0m \u001b[0;32min\u001b[0m \u001b[0m_INTERRUPTED_SIGNALS\u001b[0m\u001b[0;34m:\u001b[0m\u001b[0;34m\u001b[0m\u001b[0;34m\u001b[0m\u001b[0m\n",
            "\u001b[0;32m/usr/local/lib/python3.6/dist-packages/google/colab/_system_commands.py\u001b[0m in \u001b[0;36m_run_command\u001b[0;34m(cmd, clear_streamed_output)\u001b[0m\n\u001b[1;32m    193\u001b[0m       \u001b[0mos\u001b[0m\u001b[0;34m.\u001b[0m\u001b[0mclose\u001b[0m\u001b[0;34m(\u001b[0m\u001b[0mchild_pty\u001b[0m\u001b[0;34m)\u001b[0m\u001b[0;34m\u001b[0m\u001b[0;34m\u001b[0m\u001b[0m\n\u001b[1;32m    194\u001b[0m \u001b[0;34m\u001b[0m\u001b[0m\n\u001b[0;32m--> 195\u001b[0;31m       \u001b[0;32mreturn\u001b[0m \u001b[0m_monitor_process\u001b[0m\u001b[0;34m(\u001b[0m\u001b[0mparent_pty\u001b[0m\u001b[0;34m,\u001b[0m \u001b[0mepoll\u001b[0m\u001b[0;34m,\u001b[0m \u001b[0mp\u001b[0m\u001b[0;34m,\u001b[0m \u001b[0mcmd\u001b[0m\u001b[0;34m,\u001b[0m \u001b[0mupdate_stdin_widget\u001b[0m\u001b[0;34m)\u001b[0m\u001b[0;34m\u001b[0m\u001b[0;34m\u001b[0m\u001b[0m\n\u001b[0m\u001b[1;32m    196\u001b[0m   \u001b[0;32mfinally\u001b[0m\u001b[0;34m:\u001b[0m\u001b[0;34m\u001b[0m\u001b[0;34m\u001b[0m\u001b[0m\n\u001b[1;32m    197\u001b[0m     \u001b[0mepoll\u001b[0m\u001b[0;34m.\u001b[0m\u001b[0mclose\u001b[0m\u001b[0;34m(\u001b[0m\u001b[0;34m)\u001b[0m\u001b[0;34m\u001b[0m\u001b[0;34m\u001b[0m\u001b[0m\n",
            "\u001b[0;32m/usr/local/lib/python3.6/dist-packages/google/colab/_system_commands.py\u001b[0m in \u001b[0;36m_monitor_process\u001b[0;34m(parent_pty, epoll, p, cmd, update_stdin_widget)\u001b[0m\n\u001b[1;32m    220\u001b[0m   \u001b[0;32mwhile\u001b[0m \u001b[0;32mTrue\u001b[0m\u001b[0;34m:\u001b[0m\u001b[0;34m\u001b[0m\u001b[0;34m\u001b[0m\u001b[0m\n\u001b[1;32m    221\u001b[0m     \u001b[0;32mtry\u001b[0m\u001b[0;34m:\u001b[0m\u001b[0;34m\u001b[0m\u001b[0;34m\u001b[0m\u001b[0m\n\u001b[0;32m--> 222\u001b[0;31m       \u001b[0mresult\u001b[0m \u001b[0;34m=\u001b[0m \u001b[0m_poll_process\u001b[0m\u001b[0;34m(\u001b[0m\u001b[0mparent_pty\u001b[0m\u001b[0;34m,\u001b[0m \u001b[0mepoll\u001b[0m\u001b[0;34m,\u001b[0m \u001b[0mp\u001b[0m\u001b[0;34m,\u001b[0m \u001b[0mcmd\u001b[0m\u001b[0;34m,\u001b[0m \u001b[0mdecoder\u001b[0m\u001b[0;34m,\u001b[0m \u001b[0mstate\u001b[0m\u001b[0;34m)\u001b[0m\u001b[0;34m\u001b[0m\u001b[0;34m\u001b[0m\u001b[0m\n\u001b[0m\u001b[1;32m    223\u001b[0m       \u001b[0;32mif\u001b[0m \u001b[0mresult\u001b[0m \u001b[0;32mis\u001b[0m \u001b[0;32mnot\u001b[0m \u001b[0;32mNone\u001b[0m\u001b[0;34m:\u001b[0m\u001b[0;34m\u001b[0m\u001b[0;34m\u001b[0m\u001b[0m\n\u001b[1;32m    224\u001b[0m         \u001b[0;32mreturn\u001b[0m \u001b[0mresult\u001b[0m\u001b[0;34m\u001b[0m\u001b[0;34m\u001b[0m\u001b[0m\n",
            "\u001b[0;32m/usr/local/lib/python3.6/dist-packages/google/colab/_system_commands.py\u001b[0m in \u001b[0;36m_poll_process\u001b[0;34m(parent_pty, epoll, p, cmd, decoder, state)\u001b[0m\n\u001b[1;32m    273\u001b[0m       \u001b[0moutput_available\u001b[0m \u001b[0;34m=\u001b[0m \u001b[0;32mTrue\u001b[0m\u001b[0;34m\u001b[0m\u001b[0;34m\u001b[0m\u001b[0m\n\u001b[1;32m    274\u001b[0m       \u001b[0mraw_contents\u001b[0m \u001b[0;34m=\u001b[0m \u001b[0mos\u001b[0m\u001b[0;34m.\u001b[0m\u001b[0mread\u001b[0m\u001b[0;34m(\u001b[0m\u001b[0mparent_pty\u001b[0m\u001b[0;34m,\u001b[0m \u001b[0m_PTY_READ_MAX_BYTES_FOR_TEST\u001b[0m\u001b[0;34m)\u001b[0m\u001b[0;34m\u001b[0m\u001b[0;34m\u001b[0m\u001b[0m\n\u001b[0;32m--> 275\u001b[0;31m       \u001b[0mdecoded_contents\u001b[0m \u001b[0;34m=\u001b[0m \u001b[0mdecoder\u001b[0m\u001b[0;34m.\u001b[0m\u001b[0mdecode\u001b[0m\u001b[0;34m(\u001b[0m\u001b[0mraw_contents\u001b[0m\u001b[0;34m)\u001b[0m\u001b[0;34m\u001b[0m\u001b[0;34m\u001b[0m\u001b[0m\n\u001b[0m\u001b[1;32m    276\u001b[0m \u001b[0;34m\u001b[0m\u001b[0m\n\u001b[1;32m    277\u001b[0m       \u001b[0msys\u001b[0m\u001b[0;34m.\u001b[0m\u001b[0mstdout\u001b[0m\u001b[0;34m.\u001b[0m\u001b[0mwrite\u001b[0m\u001b[0;34m(\u001b[0m\u001b[0mdecoded_contents\u001b[0m\u001b[0;34m)\u001b[0m\u001b[0;34m\u001b[0m\u001b[0;34m\u001b[0m\u001b[0m\n",
            "\u001b[0;32m/usr/lib/python3.6/codecs.py\u001b[0m in \u001b[0;36mdecode\u001b[0;34m(self, input, final)\u001b[0m\n\u001b[1;32m    319\u001b[0m         \u001b[0;31m# decode input (taking the buffer into account)\u001b[0m\u001b[0;34m\u001b[0m\u001b[0;34m\u001b[0m\u001b[0;34m\u001b[0m\u001b[0m\n\u001b[1;32m    320\u001b[0m         \u001b[0mdata\u001b[0m \u001b[0;34m=\u001b[0m \u001b[0mself\u001b[0m\u001b[0;34m.\u001b[0m\u001b[0mbuffer\u001b[0m \u001b[0;34m+\u001b[0m \u001b[0minput\u001b[0m\u001b[0;34m\u001b[0m\u001b[0;34m\u001b[0m\u001b[0m\n\u001b[0;32m--> 321\u001b[0;31m         \u001b[0;34m(\u001b[0m\u001b[0mresult\u001b[0m\u001b[0;34m,\u001b[0m \u001b[0mconsumed\u001b[0m\u001b[0;34m)\u001b[0m \u001b[0;34m=\u001b[0m \u001b[0mself\u001b[0m\u001b[0;34m.\u001b[0m\u001b[0m_buffer_decode\u001b[0m\u001b[0;34m(\u001b[0m\u001b[0mdata\u001b[0m\u001b[0;34m,\u001b[0m \u001b[0mself\u001b[0m\u001b[0;34m.\u001b[0m\u001b[0merrors\u001b[0m\u001b[0;34m,\u001b[0m \u001b[0mfinal\u001b[0m\u001b[0;34m)\u001b[0m\u001b[0;34m\u001b[0m\u001b[0;34m\u001b[0m\u001b[0m\n\u001b[0m\u001b[1;32m    322\u001b[0m         \u001b[0;31m# keep undecoded input until the next call\u001b[0m\u001b[0;34m\u001b[0m\u001b[0;34m\u001b[0m\u001b[0;34m\u001b[0m\u001b[0m\n\u001b[1;32m    323\u001b[0m         \u001b[0mself\u001b[0m\u001b[0;34m.\u001b[0m\u001b[0mbuffer\u001b[0m \u001b[0;34m=\u001b[0m \u001b[0mdata\u001b[0m\u001b[0;34m[\u001b[0m\u001b[0mconsumed\u001b[0m\u001b[0;34m:\u001b[0m\u001b[0;34m]\u001b[0m\u001b[0;34m\u001b[0m\u001b[0;34m\u001b[0m\u001b[0m\n",
            "\u001b[0;31mUnicodeDecodeError\u001b[0m: 'utf-8' codec can't decode byte 0xf1 in position 3: invalid continuation byte"
          ]
        }
      ]
    },
    {
      "cell_type": "code",
      "metadata": {
        "id": "ebVsD0qXCSdn",
        "colab_type": "code",
        "outputId": "b39910c9-f1c0-4291-affa-e62d1e4ef465",
        "colab": {
          "base_uri": "https://localhost:8080/",
          "height": 34
        }
      },
      "source": [
        "with open(sink_path, encoding='iso-8859-1') as f:\n",
        "  print(f.read(10))"
      ],
      "execution_count": 0,
      "outputs": [
        {
          "output_type": "stream",
          "text": [
            "Sueña el r\n"
          ],
          "name": "stdout"
        }
      ]
    },
    {
      "cell_type": "markdown",
      "metadata": {
        "id": "oEgUCoJibNvP",
        "colab_type": "text"
      },
      "source": [
        "-------------------------------"
      ]
    },
    {
      "cell_type": "markdown",
      "metadata": {
        "id": "hQJQVVrobS5P",
        "colab_type": "text"
      },
      "source": [
        "## Google Drive와 연결.\n",
        "\n",
        "참고 문서 링크: https://www.marktechpost.com/2019/06/07/how-to-connect-google-colab-with-google-drive/"
      ]
    },
    {
      "cell_type": "code",
      "metadata": {
        "id": "W-aba9FEFLwL",
        "colab_type": "code",
        "outputId": "6febed28-47e0-4ffe-ba61-ea8cf864768c",
        "colab": {
          "base_uri": "https://localhost:8080/",
          "height": 121
        }
      },
      "source": [
        "from google.colab import drive\n",
        "drive.mount('/content/gdrive')"
      ],
      "execution_count": 0,
      "outputs": [
        {
          "output_type": "stream",
          "text": [
            "Go to this URL in a browser: https://accounts.google.com/o/oauth2/auth?client_id=947318989803-6bn6qk8qdgf4n4g3pfee6491hc0brc4i.apps.googleusercontent.com&redirect_uri=urn%3aietf%3awg%3aoauth%3a2.0%3aoob&response_type=code&scope=email%20https%3a%2f%2fwww.googleapis.com%2fauth%2fdocs.test%20https%3a%2f%2fwww.googleapis.com%2fauth%2fdrive%20https%3a%2f%2fwww.googleapis.com%2fauth%2fdrive.photos.readonly%20https%3a%2f%2fwww.googleapis.com%2fauth%2fpeopleapi.readonly\n",
            "\n",
            "Enter your authorization code:\n",
            "··········\n",
            "Mounted at /content/gdrive\n"
          ],
          "name": "stdout"
        }
      ]
    },
    {
      "cell_type": "markdown",
      "metadata": {
        "id": "uZFUTShxbagP",
        "colab_type": "text"
      },
      "source": [
        "URL로 가서 authorization code를 아래 code 입력란에 copy and paste. 마운트 위치는 /content/gdrive/My Drive/ 이렇게 됨."
      ]
    },
    {
      "cell_type": "code",
      "metadata": {
        "id": "BK1w_5ZgcWIS",
        "colab_type": "code",
        "colab": {}
      },
      "source": [
        "!ls '/content/gdrive/My Drive/' # 유닉스 명령어 ls를 사용하여 폴더에 있는 파일 리스트를 확인 가능"
      ],
      "execution_count": 0,
      "outputs": []
    },
    {
      "cell_type": "markdown",
      "metadata": {
        "id": "ExQZdgSMcSic",
        "colab_type": "text"
      },
      "source": [
        "자신의 구글 드라이브에 PsyPy 디렉토리를 만들어서 거기에 다음의 파일을 올린다음\n",
        "* https://raw.githubusercontent.com/wesm/pydata-book/2nd-edition/examples/segismundo.txt\n"
      ]
    },
    {
      "cell_type": "code",
      "metadata": {
        "id": "PZbXjxCTCPg-",
        "colab_type": "code",
        "outputId": "efb3f7d4-4d09-4a57-ec17-8802222bd6ca",
        "colab": {
          "base_uri": "https://localhost:8080/",
          "height": 34
        }
      },
      "source": [
        "import os\n",
        "os.getcwd()\n",
        "os.chdir('/content/gdrive/My Drive')\n",
        "os.getcwd()\n"
      ],
      "execution_count": 0,
      "outputs": [
        {
          "output_type": "execute_result",
          "data": {
            "text/plain": [
              "'/content/gdrive/My Drive'"
            ]
          },
          "metadata": {
            "tags": []
          },
          "execution_count": 9
        }
      ]
    },
    {
      "cell_type": "code",
      "metadata": {
        "id": "d-bjbrkmBsta",
        "colab_type": "code",
        "colab": {}
      },
      "source": [
        "import urllib.request\n",
        "\n",
        "url = 'https://raw.githubusercontent.com/wesm/pydata-book/2nd-edition/examples/segismundo.txt'\n",
        "file_name = \"PsyPy/segismundo.txt\" \n",
        "with urllib.request.urlopen(url) as r:\n",
        "  doc = r.read()\n",
        "  with open(file_name, \"wb\") as f:\n",
        "    f.write(doc)"
      ],
      "execution_count": 0,
      "outputs": []
    },
    {
      "cell_type": "code",
      "metadata": {
        "id": "LM7WLZoQdKVU",
        "colab_type": "code",
        "outputId": "04962d27-c13c-48ba-a9d8-909bf3fc50da",
        "colab": {
          "base_uri": "https://localhost:8080/",
          "height": 34
        }
      },
      "source": [
        "# 제대로 만들어서 업로드했으면 다음처럼 확인할 수 있다.\n",
        "!ls '/content/gdrive/My Drive/PsyPy'"
      ],
      "execution_count": 0,
      "outputs": [
        {
          "output_type": "stream",
          "text": [
            "segismundo.txt\n"
          ],
          "name": "stdout"
        }
      ]
    },
    {
      "cell_type": "code",
      "metadata": {
        "id": "MidIzeRLdreV",
        "colab_type": "code",
        "colab": {}
      },
      "source": [
        "path = \"/content/gdrive/My Drive/PsyPy/segismundo.txt\""
      ],
      "execution_count": 0,
      "outputs": []
    },
    {
      "cell_type": "markdown",
      "metadata": {
        "id": "bmGviByzd7lS",
        "colab_type": "text"
      },
      "source": [
        "파일을 읽어서, 내용들을 모두 대문자로 바꿔서 새 파일을 만들어 저장(구글 드라이브의 Psypy 디렉토리 안에)해보자."
      ]
    },
    {
      "cell_type": "code",
      "metadata": {
        "id": "eydK6QgieGGi",
        "colab_type": "code",
        "outputId": "daa78bf9-0419-473f-c770-b374fd1bdcb2",
        "colab": {
          "base_uri": "https://localhost:8080/",
          "height": 272
        }
      },
      "source": [
        "with open(path) as f:\n",
        "  doc = f.read().upper()\n",
        "  print(doc)"
      ],
      "execution_count": 0,
      "outputs": [
        {
          "output_type": "stream",
          "text": [
            "SUEÑA EL RICO EN SU RIQUEZA,\n",
            "QUE MÁS CUIDADOS LE OFRECE;\n",
            "\n",
            "SUEÑA EL POBRE QUE PADECE\n",
            "SU MISERIA Y SU POBREZA;\n",
            "\n",
            "SUEÑA EL QUE A MEDRAR EMPIEZA,\n",
            "SUEÑA EL QUE AFANA Y PRETENDE,\n",
            "SUEÑA EL QUE AGRAVIA Y OFENDE,\n",
            "\n",
            "Y EN EL MUNDO, EN CONCLUSIÓN,\n",
            "TODOS SUEÑAN LO QUE SON,\n",
            "AUNQUE NINGUNO LO ENTIENDE.\n",
            "\n",
            "\n"
          ],
          "name": "stdout"
        }
      ]
    },
    {
      "cell_type": "code",
      "metadata": {
        "id": "9grfnhk1Ghjx",
        "colab_type": "code",
        "colab": {}
      },
      "source": [
        "upperpath = 'PsyPy/upper.txt'\n",
        "\n",
        "with open(path) as f:\n",
        "\tdoc = f.read().upper()\n",
        "\n",
        "\twith open(upperpath, 'w') as ff:\n",
        "\t\tff.write(doc)"
      ],
      "execution_count": 0,
      "outputs": []
    },
    {
      "cell_type": "markdown",
      "metadata": {
        "id": "lT_0fgqvVuWC",
        "colab_type": "text"
      },
      "source": [
        "------------------------------"
      ]
    },
    {
      "cell_type": "markdown",
      "metadata": {
        "id": "onFu5P5-VzYD",
        "colab_type": "text"
      },
      "source": [
        "실습할 파일을 준비.(github 저장소를 클로닝하기)"
      ]
    },
    {
      "cell_type": "code",
      "metadata": {
        "id": "hk2vJl2uV58f",
        "colab_type": "code",
        "colab": {}
      },
      "source": [
        "# 실습을 위한 소스와 데이터가 있는 저장소를 클로닝해서 colab과 동기화하는 방법을 사용.\n",
        "# 지금은 클로닝되어 있지 않음\n",
        "%ls"
      ],
      "execution_count": 0,
      "outputs": []
    },
    {
      "cell_type": "code",
      "metadata": {
        "id": "aN-IWKKZWJLT",
        "colab_type": "code",
        "outputId": "77be1fdb-63f0-4157-d87f-767960b038a0",
        "colab": {
          "base_uri": "https://localhost:8080/",
          "height": 153
        }
      },
      "source": [
        "# 저장소 가져옴\n",
        "!git clone https://github.com/psygrammer/psypy.git"
      ],
      "execution_count": 0,
      "outputs": [
        {
          "output_type": "stream",
          "text": [
            "Cloning into 'psypy'...\n",
            "remote: Enumerating objects: 164, done.\u001b[K\n",
            "remote: Counting objects: 100% (164/164), done.\u001b[K\n",
            "remote: Compressing objects: 100% (143/143), done.\u001b[K\n",
            "remote: Total 164 (delta 64), reused 90 (delta 15), pack-reused 0\u001b[K\n",
            "Receiving objects: 100% (164/164), 19.19 MiB | 13.64 MiB/s, done.\n",
            "Resolving deltas: 100% (64/64), done.\n",
            "Checking out files: 100% (60/60), done.\n"
          ],
          "name": "stdout"
        }
      ]
    },
    {
      "cell_type": "code",
      "metadata": {
        "id": "Ha02KGNdWTyI",
        "colab_type": "code",
        "colab": {}
      },
      "source": [
        "# 코드&데이터 디렉토리 확인\n",
        "%ls"
      ],
      "execution_count": 0,
      "outputs": []
    },
    {
      "cell_type": "code",
      "metadata": {
        "id": "CgSVwu-VWWiT",
        "colab_type": "code",
        "outputId": "9d09e276-c639-4e1e-8e13-afdee56af9f5",
        "colab": {
          "base_uri": "https://localhost:8080/",
          "height": 34
        }
      },
      "source": [
        "#colab의 실행 위치를 psypy 디렉토리 내부로 옮기자\n",
        "%cd psypy"
      ],
      "execution_count": 0,
      "outputs": [
        {
          "output_type": "stream",
          "text": [
            "/content/gdrive/My Drive/psypy\n"
          ],
          "name": "stdout"
        }
      ]
    },
    {
      "cell_type": "code",
      "metadata": {
        "id": "bQuFJDB1Wj6B",
        "colab_type": "code",
        "outputId": "1426458a-3f5a-4644-a322-53798a3d1b50",
        "colab": {
          "base_uri": "https://localhost:8080/",
          "height": 34
        }
      },
      "source": [
        "%ls"
      ],
      "execution_count": 0,
      "outputs": [
        {
          "output_type": "stream",
          "text": [
            "\u001b[0m\u001b[01;34mml\u001b[0m/  \u001b[01;34mnotebooks\u001b[0m/  README.md\n"
          ],
          "name": "stdout"
        }
      ]
    },
    {
      "cell_type": "code",
      "metadata": {
        "id": "c2_BAmtLWvaA",
        "colab_type": "code",
        "outputId": "8d438223-c2e6-4668-e369-0ddfafd9e864",
        "colab": {
          "base_uri": "https://localhost:8080/",
          "height": 34
        }
      },
      "source": [
        "#실행 위치를 notebooks 내부로 한번 더 들어가자.\n",
        "%cd notebooks"
      ],
      "execution_count": 0,
      "outputs": [
        {
          "output_type": "stream",
          "text": [
            "/content/gdrive/My Drive/psypy/notebooks\n"
          ],
          "name": "stdout"
        }
      ]
    },
    {
      "cell_type": "code",
      "metadata": {
        "id": "WGDeRlJxW2va",
        "colab_type": "code",
        "outputId": "2e0a64d8-fc7f-4700-ed36-a055b271f4b1",
        "colab": {
          "base_uri": "https://localhost:8080/",
          "height": 67
        }
      },
      "source": [
        "%ls"
      ],
      "execution_count": 0,
      "outputs": [
        {
          "output_type": "stream",
          "text": [
            "02_python_basics.ipynb               04_numpy_basics.ipynb  new_person.csv\n",
            "03_a_built_in_data_structures.ipynb  \u001b[0m\u001b[01;34mexamples\u001b[0m/\n",
            "03_b_funcions_and_files.ipynb        \u001b[01;34mfigures\u001b[0m/\n"
          ],
          "name": "stdout"
        }
      ]
    },
    {
      "cell_type": "code",
      "metadata": {
        "id": "fvtXGmsfW5Xt",
        "colab_type": "code",
        "outputId": "ec405cdb-febf-4ae0-c6de-d9db140a0017",
        "colab": {
          "base_uri": "https://localhost:8080/",
          "height": 34
        }
      },
      "source": [
        "# 실습을 위한 파일들 확인\n",
        "%ls examples/"
      ],
      "execution_count": 0,
      "outputs": [
        {
          "output_type": "stream",
          "text": [
            "\u001b[0m\u001b[01;34miu\u001b[0m/  new_person.csv  person.csv\n"
          ],
          "name": "stdout"
        }
      ]
    },
    {
      "cell_type": "markdown",
      "metadata": {
        "id": "WfJOocVWCs9U",
        "colab_type": "text"
      },
      "source": [
        "----------------------------"
      ]
    },
    {
      "cell_type": "markdown",
      "metadata": {
        "id": "FQrDK7s3XeNX",
        "colab_type": "text"
      },
      "source": [
        "## 응용 문제 1 - 파일 분석\n",
        "* examples/person.csv 파일을 파이썬으로 분석한다."
      ]
    },
    {
      "cell_type": "code",
      "metadata": {
        "id": "PGAxSVGfX6ja",
        "colab_type": "code",
        "outputId": "e3e4bc27-b8a5-467e-b6ff-1f910827b32f",
        "colab": {
          "base_uri": "https://localhost:8080/",
          "height": 202
        }
      },
      "source": [
        "%cat examples/person.csv"
      ],
      "execution_count": 0,
      "outputs": [
        {
          "output_type": "stream",
          "text": [
            "no,id,gender,email,com,score\r\n",
            "1,ma,male,,naver,100\r\n",
            "2,fa,female,,google,100\r\n",
            "3,mb,male,,yahoo,80\r\n",
            "4,mc,male,,daum,70\r\n",
            "5,fb,female,,daum,60\r\n",
            "6,fc,female,,naver,70\r\n",
            "7,me,male,,yahoo,80\r\n",
            "8,md,male,,naver,100\r\n",
            "9,mg,male,,naver,90\r\n",
            "10,fd,female,,naver,90"
          ],
          "name": "stdout"
        }
      ]
    },
    {
      "cell_type": "code",
      "metadata": {
        "id": "HyY93ntxYAEl",
        "colab_type": "code",
        "colab": {}
      },
      "source": [
        "path = \"examples/person.csv\""
      ],
      "execution_count": 0,
      "outputs": []
    },
    {
      "cell_type": "markdown",
      "metadata": {
        "id": "vlu9rfmxXoXn",
        "colab_type": "text"
      },
      "source": [
        "### 1) score의 평균을 구하기"
      ]
    },
    {
      "cell_type": "code",
      "metadata": {
        "id": "RRMo7cMiYZ9G",
        "colab_type": "code",
        "outputId": "d227e29e-7a6e-4268-ccc1-23a982b30779",
        "colab": {
          "base_uri": "https://localhost:8080/",
          "height": 34
        }
      },
      "source": [
        "import pandas as pd\n",
        "data = pd.read_csv(path)\n",
        "data['score'].mean()"
      ],
      "execution_count": 0,
      "outputs": [
        {
          "output_type": "execute_result",
          "data": {
            "text/plain": [
              "84.0"
            ]
          },
          "metadata": {
            "tags": []
          },
          "execution_count": 30
        }
      ]
    },
    {
      "cell_type": "markdown",
      "metadata": {
        "id": "paABbX7fX0Qt",
        "colab_type": "text"
      },
      "source": [
        "### 2) 남,녀별 score 평균 구하기"
      ]
    },
    {
      "cell_type": "code",
      "metadata": {
        "id": "Vs1IGNriXyoI",
        "colab_type": "code",
        "outputId": "0e8e6b9b-a258-4e67-d3ed-b3c76deea719",
        "colab": {
          "base_uri": "https://localhost:8080/",
          "height": 101
        }
      },
      "source": [
        "print(data.groupby('gender'))\n",
        "data.groupby('gender')['score'].mean()"
      ],
      "execution_count": 0,
      "outputs": [
        {
          "output_type": "stream",
          "text": [
            "<pandas.core.groupby.generic.DataFrameGroupBy object at 0x7f33793f3e80>\n"
          ],
          "name": "stdout"
        },
        {
          "output_type": "execute_result",
          "data": {
            "text/plain": [
              "gender\n",
              "female    80.000000\n",
              "male      86.666667\n",
              "Name: score, dtype: float64"
            ]
          },
          "metadata": {
            "tags": []
          },
          "execution_count": 32
        }
      ]
    },
    {
      "cell_type": "markdown",
      "metadata": {
        "id": "lf6dYPKbYmdt",
        "colab_type": "text"
      },
      "source": [
        "### 3) 각 email의 값은 비워져있다. 새 파일에 채워넣어보자. 이메일은 '아이디@회사이름.com' 규칙을 따른다. 예를들어 id가 user1이고 회사가 naver이면 그 사람의 email은 user1@naver.com 이다.¶ "
      ]
    },
    {
      "cell_type": "code",
      "metadata": {
        "id": "6asIpyvONBwU",
        "colab_type": "code",
        "outputId": "f2b2b945-ae2a-4e2a-a54f-fb4284c66254",
        "colab": {
          "base_uri": "https://localhost:8080/",
          "height": 202
        }
      },
      "source": [
        "email_list = data['id']+'@'+data['com']+'.com'\n",
        "email_list"
      ],
      "execution_count": 0,
      "outputs": [
        {
          "output_type": "execute_result",
          "data": {
            "text/plain": [
              "0     ma@naver.com\n",
              "1    fa@google.com\n",
              "2     mb@yahoo.com\n",
              "3      mc@daum.com\n",
              "4      fb@daum.com\n",
              "5     fc@naver.com\n",
              "6     me@yahoo.com\n",
              "7     md@naver.com\n",
              "8     mg@naver.com\n",
              "9     fd@naver.com\n",
              "dtype: object"
            ]
          },
          "metadata": {
            "tags": []
          },
          "execution_count": 33
        }
      ]
    },
    {
      "cell_type": "code",
      "metadata": {
        "id": "46OkFMNbYuL1",
        "colab_type": "code",
        "outputId": "422bc739-f6b7-4dea-8379-4773ef1498fe",
        "colab": {
          "base_uri": "https://localhost:8080/",
          "height": 202
        }
      },
      "source": [
        "data['email'] = email_list\n",
        "print(data)\n",
        "data.to_csv('new_person.csv', sep=',', encoding='utf-8')"
      ],
      "execution_count": 0,
      "outputs": [
        {
          "output_type": "stream",
          "text": [
            "   no  id  gender          email     com  score\n",
            "0   1  ma    male   ma@naver.com   naver    100\n",
            "1   2  fa  female  fa@google.com  google    100\n",
            "2   3  mb    male   mb@yahoo.com   yahoo     80\n",
            "3   4  mc    male    mc@daum.com    daum     70\n",
            "4   5  fb  female    fb@daum.com    daum     60\n",
            "5   6  fc  female   fc@naver.com   naver     70\n",
            "6   7  me    male   me@yahoo.com   yahoo     80\n",
            "7   8  md    male   md@naver.com   naver    100\n",
            "8   9  mg    male   mg@naver.com   naver     90\n",
            "9  10  fd  female   fd@naver.com   naver     90\n"
          ],
          "name": "stdout"
        }
      ]
    },
    {
      "cell_type": "code",
      "metadata": {
        "id": "rQLiWTZcNlUw",
        "colab_type": "code",
        "outputId": "1979a62f-40ba-4124-ccf6-330d5120e6a0",
        "colab": {
          "base_uri": "https://localhost:8080/",
          "height": 34
        }
      },
      "source": [
        "import os\n",
        "os.getcwd()\n",
        "os.chdir()"
      ],
      "execution_count": 0,
      "outputs": [
        {
          "output_type": "execute_result",
          "data": {
            "text/plain": [
              "'/content/gdrive/My Drive/psypy/notebooks'"
            ]
          },
          "metadata": {
            "tags": []
          },
          "execution_count": 35
        }
      ]
    },
    {
      "cell_type": "markdown",
      "metadata": {
        "id": "Hk6AsMgPZJ-G",
        "colab_type": "text"
      },
      "source": [
        "## 응용 문제 2 - 디렉토리의 사진 정리\n",
        "* examples/iu 디렉토리에는 iu 사진이 들어있다.\n",
        "* 디렉토리 안에 하위 디렉토리를 생성해서 사진 파일 포맷별로 정리해보자.\n",
        "* 예를들어 jpg 파일들은 jpg 파일별로 모아서 새로 디렉토리를 생성해서 그곳에 넣는다.\n",
        "예) iu/1.jpg, 2.jpg, 3.jpg --> iu/jpg/1.jpg, 2.jpg, 3.jpg"
      ]
    },
    {
      "cell_type": "code",
      "metadata": {
        "id": "QgRLRlST42vN",
        "colab_type": "code",
        "colab": {}
      },
      "source": [
        "import glob, os, shutil\n",
        "\n",
        "files = glob.iglob(os.path.join(iu_path, \"*.jpg\"))\n",
        "for file in files:\n",
        "    if os.path.isfile(file):\n",
        "        shutil.copy2(file, 'examples/iu/jpg')\n",
        "\n",
        "files = glob.iglob(os.path.join(iu_path, \"*.gif\"))\n",
        "for file in files:\n",
        "    if os.path.isfile(file):\n",
        "        shutil.copy2(file, 'examples/iu/gif')\n",
        "        \n",
        "files = glob.iglob(os.path.join(iu_path, \"*.png\"))\n",
        "for file in files:\n",
        "    if os.path.isfile(file):\n",
        "        shutil.copy2(file, 'examples/iu/png')"
      ],
      "execution_count": 0,
      "outputs": []
    },
    {
      "cell_type": "code",
      "metadata": {
        "id": "Lavob4euZhpA",
        "colab_type": "code",
        "outputId": "53793d4b-4577-4471-f7b5-5f310b8c728d",
        "colab": {
          "base_uri": "https://localhost:8080/",
          "height": 70
        }
      },
      "source": [
        "# 다른 방법을 찾아보자. \n",
        "\n",
        "iu_path = 'examples/iu'\n",
        "file_list = os.listdir(iu_path)\n",
        "print (\"file_list: {}\".format(file_list))\n",
        "\n",
        "file_list_jpg = [file for file in file_list if file.endswith(\".jpg\")]\n",
        "file_list_png = [file for file in file_list if file.endswith('.png')]\n",
        "file_list_gif = [file for file in file_list if file.endswith('.gif')]\n",
        "\n",
        "print(file_list_jpg)\n",
        "#!mkdir 'examples/iu/png'\n",
        "#!mkdir 'examples/iu/gif'\n",
        "for file in file_list_jpg:\n",
        "  if os.path.isfile(file):\n",
        "    shutil.copy(file,'examples/iu/jpg')\n",
        "\n",
        "for file in file_list_png:\n",
        "  if os.path.isfile(file):\n",
        "    shutil.copy(file,'examples/iu/png')\n",
        "\n",
        "for file in file_list_gif:\n",
        "  if os.path.isfile(file):\n",
        "    shutil.copy(file,'examples/iu/gif') #이렇게는 저장이 안됨"
      ],
      "execution_count": 0,
      "outputs": [
        {
          "output_type": "stream",
          "text": [
            "file_list: ['08113418_iu.gif', '109_-1_260.gif', '110112_0605_2.png', '110112_0605_3.png', '13.gif', '17.gif', '1_(2).gif', '200px-IU_singing_in_court.jpg', '2011-06-17_03_54_12.png', '201112102_132351378016.gif', '201112211_132443971888.gif', '201112271_132496475764.gif', '250px-IU_Korean_Singer_at_G_By_Guess_Fansigning_2012-04-29_002.jpg', '612134298.png', '66.jpg', 'IU-01.jpg', 'IU28BE3.png', 'K2EteiwAveuLctYp3AGhww6F.jpg', 'd0135791_50af48810f8a3.png', 'i_u0516_1314588606_29883.png', 'iu.jpg', 'iu14.jpg', 'iu2.png', 'iuiu.png', 'iuiuiu.png', 'iumove.gif', 'main04k.png', 'naver_com_20120706_094844.gif', 'ntreev1005.jpg', 'ppomppu_co_kr_20110414_155843.jpg', 'jpg', 'png', 'gif']\n",
            "['200px-IU_singing_in_court.jpg', '250px-IU_Korean_Singer_at_G_By_Guess_Fansigning_2012-04-29_002.jpg', '66.jpg', 'IU-01.jpg', 'K2EteiwAveuLctYp3AGhww6F.jpg', 'iu.jpg', 'iu14.jpg', 'ntreev1005.jpg', 'ppomppu_co_kr_20110414_155843.jpg']\n"
          ],
          "name": "stdout"
        }
      ]
    },
    {
      "cell_type": "code",
      "metadata": {
        "id": "FVzjSjnKUIpX",
        "colab_type": "code",
        "outputId": "20a38d5a-f39c-4755-921e-84910e779581",
        "colab": {
          "base_uri": "https://localhost:8080/",
          "height": 34
        }
      },
      "source": [
        "# 아래처럼 하면 확장자만 받아옴.\n",
        "file_list[1].split('.')[1]"
      ],
      "execution_count": 0,
      "outputs": [
        {
          "output_type": "execute_result",
          "data": {
            "text/plain": [
              "'gif'"
            ]
          },
          "metadata": {
            "tags": []
          },
          "execution_count": 24
        }
      ]
    },
    {
      "cell_type": "code",
      "metadata": {
        "id": "H9mb6PpDPQZJ",
        "colab_type": "code",
        "outputId": "f728ffc5-0dfb-49a1-a7a9-157e85993f93",
        "colab": {
          "base_uri": "https://localhost:8080/",
          "height": 571
        }
      },
      "source": [
        "# 목표: 1) 정규표현식으로 . 뒤의 파일 확장자 받아오기\n",
        "# 2) 파일확장자 중복 제거\n",
        "# 3) 파일확장자로 디렉토리 만들기\n",
        "# 4) 확장자별 파일 복사\n",
        "\n",
        "import re\n",
        "import os\n",
        "p = re.compile('([.]?[a-z]{3}$)')\n",
        "\n",
        "iu_path = 'examples/iu'\n",
        "file_list = os.listdir(iu_path)\n",
        "\n",
        "for i in file_list:\n",
        "  m = p.findall(f'{i}')\n",
        "  print(m) # 이것도 아님"
      ],
      "execution_count": 0,
      "outputs": [
        {
          "output_type": "stream",
          "text": [
            "['.gif']\n",
            "['.gif']\n",
            "['.png']\n",
            "['.png']\n",
            "['.gif']\n",
            "['.gif']\n",
            "['.gif']\n",
            "['.jpg']\n",
            "['.png']\n",
            "['.gif']\n",
            "['.gif']\n",
            "['.gif']\n",
            "['.jpg']\n",
            "['.png']\n",
            "['.jpg']\n",
            "['.jpg']\n",
            "['.png']\n",
            "['.jpg']\n",
            "['.png']\n",
            "['.png']\n",
            "['.jpg']\n",
            "['.jpg']\n",
            "['.png']\n",
            "['.png']\n",
            "['.png']\n",
            "['.gif']\n",
            "['.png']\n",
            "['.gif']\n",
            "['.jpg']\n",
            "['.jpg']\n",
            "['jpg']\n",
            "['png']\n",
            "['gif']\n"
          ],
          "name": "stdout"
        }
      ]
    },
    {
      "cell_type": "code",
      "metadata": {
        "id": "RDJjWYXGPOoc",
        "colab_type": "code",
        "outputId": "a3e4755f-20c9-4f06-a9ba-a60738d9c9c1",
        "colab": {
          "base_uri": "https://localhost:8080/",
          "height": 571
        }
      },
      "source": [
        "iu_path = 'examples/iu'\n",
        "os.listdir(iu_path)"
      ],
      "execution_count": 0,
      "outputs": [
        {
          "output_type": "execute_result",
          "data": {
            "text/plain": [
              "['08113418_iu.gif',\n",
              " '109_-1_260.gif',\n",
              " '110112_0605_2.png',\n",
              " '110112_0605_3.png',\n",
              " '13.gif',\n",
              " '17.gif',\n",
              " '1_(2).gif',\n",
              " '200px-IU_singing_in_court.jpg',\n",
              " '2011-06-17_03_54_12.png',\n",
              " '201112102_132351378016.gif',\n",
              " '201112211_132443971888.gif',\n",
              " '201112271_132496475764.gif',\n",
              " '250px-IU_Korean_Singer_at_G_By_Guess_Fansigning_2012-04-29_002.jpg',\n",
              " '612134298.png',\n",
              " '66.jpg',\n",
              " 'IU-01.jpg',\n",
              " 'IU28BE3.png',\n",
              " 'K2EteiwAveuLctYp3AGhww6F.jpg',\n",
              " 'd0135791_50af48810f8a3.png',\n",
              " 'i_u0516_1314588606_29883.png',\n",
              " 'iu.jpg',\n",
              " 'iu14.jpg',\n",
              " 'iu2.png',\n",
              " 'iuiu.png',\n",
              " 'iuiuiu.png',\n",
              " 'iumove.gif',\n",
              " 'main04k.png',\n",
              " 'naver_com_20120706_094844.gif',\n",
              " 'ntreev1005.jpg',\n",
              " 'ppomppu_co_kr_20110414_155843.jpg',\n",
              " 'jpg',\n",
              " 'png',\n",
              " 'gif']"
            ]
          },
          "metadata": {
            "tags": []
          },
          "execution_count": 37
        }
      ]
    },
    {
      "cell_type": "markdown",
      "metadata": {
        "id": "3uuSSmoyZ_Id",
        "colab_type": "text"
      },
      "source": [
        "## 응용문제 3 - 간단한 웹 크롤링\n",
        "* 다음 주소로 방탄소년단의 노래 가사를 가져온다.\n",
        "* 가사 중에 영어가 섞인 문장은 제거하고 출력해보자. "
      ]
    },
    {
      "cell_type": "code",
      "metadata": {
        "id": "XJ9Ih5bQZoAo",
        "colab_type": "code",
        "colab": {}
      },
      "source": [
        "import requests\n",
        "from bs4 import BeautifulSoup"
      ],
      "execution_count": 0,
      "outputs": []
    },
    {
      "cell_type": "code",
      "metadata": {
        "id": "QkqQWKHXaVy_",
        "colab_type": "code",
        "colab": {}
      },
      "source": [
        "#url = \"https://gasazip.com/view.html?no=614736\"\n",
        "#url = \"https://gasazip.com/view.html?no=636135\"\n",
        "url = \"http://gasazip.com/view.html?no=2276458\""
      ],
      "execution_count": 0,
      "outputs": []
    },
    {
      "cell_type": "code",
      "metadata": {
        "id": "SVNp7PJQaY-x",
        "colab_type": "code",
        "colab": {}
      },
      "source": [
        "# HTTP GET Request\n",
        "req = requests.get(url)\n",
        "# HTML 소스 가져오기\n",
        "html = req.text\n",
        "# BeautifulSoup으로 html소스를 python객체로 변환하기\n",
        "# 첫 인자는 html소스코드, 두 번째 인자는 어떤 parser를 이용할지 명시.\n",
        "# 여기서는 Python 내장 html.parser를 이용했다.\n",
        "soup = BeautifulSoup(html, 'html.parser')"
      ],
      "execution_count": 0,
      "outputs": []
    },
    {
      "cell_type": "code",
      "metadata": {
        "id": "jA0xTN4aacKf",
        "colab_type": "code",
        "outputId": "28557886-f65e-4e77-c5eb-a087525a5bfd",
        "colab": {
          "base_uri": "https://localhost:8080/",
          "height": 1000
        }
      },
      "source": [
        "lyrics = []\n",
        "for txt in soup.find_all('div', attrs={'class': 'col-md-8'}) :\n",
        "    lines = txt.get_text().split('\\n')\n",
        "    for line in lines :\n",
        "        lyrics.append(line.strip())\n",
        "lyrics"
      ],
      "execution_count": 0,
      "outputs": [
        {
          "output_type": "execute_result",
          "data": {
            "text/plain": [
              "['작은 것들을 위한 시 (Boy With Luv)Feat.Halsey',\n",
              " '',\n",
              " '모든 게 궁금해',\n",
              " 'How’s your day',\n",
              " 'Oh tell me',\n",
              " '뭐가 널 행복하게 하는지',\n",
              " 'Oh text me',\n",
              " 'Your every picture',\n",
              " '내 머리맡에 두고 싶어',\n",
              " 'oh bae',\n",
              " 'Come be my teacher',\n",
              " '네 모든 걸 다 가르쳐줘',\n",
              " 'Your 1 your 2',\n",
              " 'Listen my my baby 나는',\n",
              " '저 하늘을 높이 날고 있어',\n",
              " '그때 니가 내게 줬던 두 날개로',\n",
              " '이제 여긴 너무 높아',\n",
              " '난 내 눈에 널 맞추고 싶어',\n",
              " 'Yeah you makin’ me a boy with luv',\n",
              " 'Oh my my my oh my my my',\n",
              " \"I've waited all my life\",\n",
              " '네 전부를 함께하고 싶어',\n",
              " 'Oh my my my oh my my my',\n",
              " 'Looking for something right',\n",
              " '이제 조금은 나 알겠어',\n",
              " 'I want something stronger',\n",
              " 'Than a moment',\n",
              " 'than a moment love',\n",
              " 'I have waited longer',\n",
              " 'For a boy with',\n",
              " 'For a boy with luv',\n",
              " '널 알게 된 이후 ya',\n",
              " '내 삶은 온통 너 ya',\n",
              " '사소한 게 사소하지 않게',\n",
              " '만들어버린 너라는 별',\n",
              " '하나부터 열까지 모든 게 특별하지',\n",
              " '너의 관심사 걸음걸이 말투와',\n",
              " '사소한 작은 습관들까지',\n",
              " '다 말하지 너무 작던',\n",
              " '내가 영웅이 된 거라고',\n",
              " 'Oh nah',\n",
              " '난 말하지 운명 따윈',\n",
              " '처음부터 내 게 아니었다고',\n",
              " 'Oh nah',\n",
              " '세계의 평화',\n",
              " 'No way',\n",
              " '거대한 질서',\n",
              " 'No way',\n",
              " '그저 널 지킬 거야 난',\n",
              " 'Boy with luv',\n",
              " 'Listen my my baby 나는',\n",
              " '저 하늘을 높이 날고 있어',\n",
              " '그때 니가 내게 줬던 두 날개로',\n",
              " '이제 여긴 너무 높아',\n",
              " '난 내 눈에 널 맞추고 싶어',\n",
              " 'Yeah you makin’ me a boy with luv',\n",
              " 'Oh my my my oh my my my',\n",
              " 'You got me high so fast',\n",
              " '네 전부를 함께하고 싶어',\n",
              " 'Oh my my my oh my my my',\n",
              " 'You got me fly so fast',\n",
              " '이제 조금은 나 알겠어',\n",
              " 'Love is nothing stronger',\n",
              " 'Than a boy with luv',\n",
              " 'Love is nothing stronger',\n",
              " 'Than a boy with luv',\n",
              " '툭 까놓고 말할게',\n",
              " '나도 모르게 힘이 들어가기도 했어',\n",
              " '높아버린 sky',\n",
              " '커져버린 hall',\n",
              " '때론 도망치게 해달라며 기도했어',\n",
              " 'But 너의 상처는 나의 상처',\n",
              " '깨달았을 때 나 다짐했던걸',\n",
              " '니가 준 이카루스의 날개로',\n",
              " '태양이 아닌 너에게로',\n",
              " 'Let me fly',\n",
              " 'Oh my my my oh my my my',\n",
              " \"I've waited all my life\",\n",
              " '네 전부를 함께하고 싶어',\n",
              " 'Oh my my my oh my my my',\n",
              " 'Looking for something right',\n",
              " '이제 조금은 나 알겠어',\n",
              " 'I want something stronger',\n",
              " 'Than a moment',\n",
              " 'than a moment love',\n",
              " 'Love is nothing stronger',\n",
              " 'Than a boy with luv',\n",
              " '']"
            ]
          },
          "metadata": {
            "tags": []
          },
          "execution_count": 44
        }
      ]
    },
    {
      "cell_type": "code",
      "metadata": {
        "id": "zHfiuM-sahDE",
        "colab_type": "code",
        "outputId": "55b83940-81ac-4483-8bce-d0533fbd0acd",
        "colab": {
          "base_uri": "https://localhost:8080/",
          "height": 54
        }
      },
      "source": [
        "lyrics_total = ''.join(lyrics)\n",
        "lyrics_total"
      ],
      "execution_count": 0,
      "outputs": [
        {
          "output_type": "execute_result",
          "data": {
            "text/plain": [
              "\"작은 것들을 위한 시 (Boy With Luv)Feat.Halsey모든 게 궁금해How’s your dayOh tell me뭐가 널 행복하게 하는지Oh text meYour every picture내 머리맡에 두고 싶어oh baeCome be my teacher네 모든 걸 다 가르쳐줘Your 1 your 2Listen my my baby 나는저 하늘을 높이 날고 있어그때 니가 내게 줬던 두 날개로이제 여긴 너무 높아난 내 눈에 널 맞추고 싶어Yeah you makin’ me a boy with luvOh my my my oh my my myI've waited all my life네 전부를 함께하고 싶어Oh my my my oh my my myLooking for something right이제 조금은 나 알겠어I want something strongerThan a momentthan a moment loveI have waited longerFor a boy withFor a boy with luv널 알게 된 이후 ya내 삶은 온통 너 ya사소한 게 사소하지 않게만들어버린 너라는 별하나부터 열까지 모든 게 특별하지너의 관심사 걸음걸이 말투와사소한 작은 습관들까지다 말하지 너무 작던내가 영웅이 된 거라고Oh nah난 말하지 운명 따윈처음부터 내 게 아니었다고Oh nah세계의 평화No way거대한 질서No way그저 널 지킬 거야 난Boy with luvListen my my baby 나는저 하늘을 높이 날고 있어그때 니가 내게 줬던 두 날개로이제 여긴 너무 높아난 내 눈에 널 맞추고 싶어Yeah you makin’ me a boy with luvOh my my my oh my my myYou got me high so fast네 전부를 함께하고 싶어Oh my my my oh my my myYou got me fly so fast이제 조금은 나 알겠어Love is nothing strongerThan a boy with luvLove is nothing strongerThan a boy with luv툭 까놓고 말할게나도 모르게 힘이 들어가기도 했어높아버린 sky커져버린 hall때론 도망치게 해달라며 기도했어But 너의 상처는 나의 상처깨달았을 때 나 다짐했던걸니가 준 이카루스의 날개로태양이 아닌 너에게로Let me flyOh my my my oh my my myI've waited all my life네 전부를 함께하고 싶어Oh my my my oh my my myLooking for something right이제 조금은 나 알겠어I want something strongerThan a momentthan a moment loveLove is nothing strongerThan a boy with luv\""
            ]
          },
          "metadata": {
            "tags": []
          },
          "execution_count": 45
        }
      ]
    },
    {
      "cell_type": "code",
      "metadata": {
        "id": "dSMvetnuQiQ6",
        "colab_type": "code",
        "colab": {}
      },
      "source": [
        "import re\n",
        "# 1) 영어를 없앤다\n",
        "(^[a-z])\n",
        "(^[a-zA-Z])\n",
        "\n",
        "# 2) 한글만 남긴다\n",
        "([가-힣])\n",
        "ㅋㅋㅋㅋㅋ\n",
        "\n",
        "# 띄어쓰기 : \\s\n",
        "# 엔터 줄바꿈 : \\n"
      ],
      "execution_count": 0,
      "outputs": []
    },
    {
      "cell_type": "code",
      "metadata": {
        "id": "4Ow1SVIXRPVY",
        "colab_type": "code",
        "colab": {}
      },
      "source": [
        "re.findall('[가-힣\\s]', lyrics_total)"
      ],
      "execution_count": 0,
      "outputs": []
    },
    {
      "cell_type": "code",
      "metadata": {
        "id": "lziBTA7WQ7C2",
        "colab_type": "code",
        "colab": {}
      },
      "source": [
        "re.compile('[가-힣\\s]+').findall(lyrics_total)\n"
      ],
      "execution_count": 0,
      "outputs": []
    },
    {
      "cell_type": "markdown",
      "metadata": {
        "id": "t-Ig88SPijOM",
        "colab_type": "text"
      },
      "source": [
        "![alt text](https://)"
      ]
    },
    {
      "cell_type": "code",
      "metadata": {
        "id": "9D5PSHiaap9c",
        "colab_type": "code",
        "outputId": "1738106b-ef7b-4f6d-c0e5-9b83d8b80ea1",
        "colab": {
          "base_uri": "https://localhost:8080/",
          "height": 34
        }
      },
      "source": [
        "\n",
        "# 한글만 남긴다 \n",
        "set(re.compile('[가-힣\\s]+').findall(lyrics_total))\n",
        "\n",
        "\n"
      ],
      "execution_count": 0,
      "outputs": [
        {
          "output_type": "execute_result",
          "data": {
            "text/plain": [
              "[]"
            ]
          },
          "metadata": {
            "tags": []
          },
          "execution_count": 56
        }
      ]
    },
    {
      "cell_type": "code",
      "metadata": {
        "id": "VbkNewX_R1ll",
        "colab_type": "code",
        "colab": {}
      },
      "source": [
        "#영어(소문자, 대문자) 만 제거한다\n",
        "re.compile('^[a-z\\s]+').findall(lyrics_total)\n"
      ],
      "execution_count": 0,
      "outputs": []
    },
    {
      "cell_type": "markdown",
      "metadata": {
        "id": "bfMpgqxrZEi2",
        "colab_type": "text"
      },
      "source": [
        "------------------------"
      ]
    },
    {
      "cell_type": "markdown",
      "metadata": {
        "id": "IT8Fmz16ALTK",
        "colab_type": "text"
      },
      "source": [
        "# 클래스 [3, 4]"
      ]
    },
    {
      "cell_type": "code",
      "metadata": {
        "id": "t7Ea0KExANbR",
        "colab_type": "code",
        "colab": {}
      },
      "source": [
        "# 클래스를 하나 만들기 위해 특정 객체의 하위 클래스를 만들 수 있습니다.\n",
        "class Human(object):\n",
        "\n",
        "    # 클래스 속성은 이 클래스의 모든 인스턴스에서 공유합니다.\n",
        "    species = \"H. sapiens\"\n",
        "\n",
        "    # 기본 초기화자\n",
        "    def __init__(self, name):\n",
        "        # 인자를 인스턴스의 name 속성에 할당합니다.\n",
        "        self.name = name\n",
        "\n",
        "    # 모든 인스턴스 메서드에서는 self를 첫 번째 인자로 받습니다.\n",
        "    def say(self, msg):\n",
        "       return \"%s: %s\" % (self.name, msg)\n",
        "\n",
        "    # 클래스 메서드는 모든 인스턴스에서 공유합니다.\n",
        "    # 클래스 메서드는 호출하는 클래스를 첫 번째 인자로 호출됩니다.\n",
        "    @classmethod\n",
        "    def get_species(cls):\n",
        "        return cls.species\n",
        "\n",
        "    # 정적 메서드는 클래스나 인스턴스 참조 없이도 호출할 수 있습니다.\n",
        "    @staticmethod\n",
        "    def grunt():\n",
        "        return \"*grunt*\""
      ],
      "execution_count": 0,
      "outputs": []
    },
    {
      "cell_type": "code",
      "metadata": {
        "id": "7xDG6inNAKsT",
        "colab_type": "code",
        "outputId": "e855263f-49c9-43a3-eb5e-335da23fcdae",
        "colab": {
          "base_uri": "https://localhost:8080/",
          "height": 34
        }
      },
      "source": [
        "# 클래스 인스턴스화\n",
        "i = Human(name=\"Ian\")\n",
        "print(i.say(\"hi\"))     "
      ],
      "execution_count": 0,
      "outputs": [
        {
          "output_type": "stream",
          "text": [
            "Ian: hi\n"
          ],
          "name": "stdout"
        }
      ]
    },
    {
      "cell_type": "code",
      "metadata": {
        "id": "gzQy6R8iAQz1",
        "colab_type": "code",
        "outputId": "82f99cf8-5423-4d86-ca04-4571fe044c41",
        "colab": {
          "base_uri": "https://localhost:8080/",
          "height": 34
        }
      },
      "source": [
        "j = Human(\"Joel\")\n",
        "print(j.say(\"hello\"))"
      ],
      "execution_count": 0,
      "outputs": [
        {
          "output_type": "stream",
          "text": [
            "Joel: hello\n"
          ],
          "name": "stdout"
        }
      ]
    },
    {
      "cell_type": "code",
      "metadata": {
        "id": "JXo0-wTPASu4",
        "colab_type": "code",
        "outputId": "0e7d285a-4b25-4630-8d8c-0b9f77f79343",
        "colab": {
          "base_uri": "https://localhost:8080/",
          "height": 34
        }
      },
      "source": [
        "# 클래스 메서드를 호출\n",
        "i.get_species() "
      ],
      "execution_count": 0,
      "outputs": [
        {
          "output_type": "execute_result",
          "data": {
            "text/plain": [
              "'H. sapiens'"
            ]
          },
          "metadata": {
            "tags": []
          },
          "execution_count": 122
        }
      ]
    },
    {
      "cell_type": "code",
      "metadata": {
        "id": "7MYoROVsAU8P",
        "colab_type": "code",
        "outputId": "1f5ca165-aa1f-438a-c6fd-27aac282c4c4",
        "colab": {
          "base_uri": "https://localhost:8080/",
          "height": 51
        }
      },
      "source": [
        "# 공유 속성을 변경\n",
        "Human.species = \"H. neanderthalensis\"\n",
        "print(i.get_species()) \n",
        "print(j.get_species()) "
      ],
      "execution_count": 0,
      "outputs": [
        {
          "output_type": "stream",
          "text": [
            "H. neanderthalensis\n",
            "H. neanderthalensis\n"
          ],
          "name": "stdout"
        }
      ]
    },
    {
      "cell_type": "code",
      "metadata": {
        "id": "YuInX-8cAW11",
        "colab_type": "code",
        "outputId": "7e5d8ca5-1758-453b-b366-0d758a4c947d",
        "colab": {
          "base_uri": "https://localhost:8080/",
          "height": 34
        }
      },
      "source": [
        "# 정적 메서드를 호출\n",
        "Human.grunt()"
      ],
      "execution_count": 0,
      "outputs": [
        {
          "output_type": "execute_result",
          "data": {
            "text/plain": [
              "'*grunt*'"
            ]
          },
          "metadata": {
            "tags": []
          },
          "execution_count": 124
        }
      ]
    },
    {
      "cell_type": "code",
      "metadata": {
        "id": "bpGCfyOpAYqq",
        "colab_type": "code",
        "colab": {}
      },
      "source": [
        "class HousePark:\n",
        "    lastname = \"박\"\n",
        "    def __init__(self, name):\n",
        "        self.fullname = self.lastname + name\n",
        "    def travel(self, where):\n",
        "        print(\"%s, %s여행을 가다.\" % (self.fullname, where))\n",
        "    def love(self, other):\n",
        "        print(\"%s, %s 사랑에 빠졌네\" % (self.fullname, other.fullname))\n",
        "    def fight(self, other):\n",
        "        print(\"%s, %s 싸우네\" % (self.fullname, other.fullname))\n",
        "    def __add__(self, other):\n",
        "        print(\"%s, %s 결혼했네\" % (self.fullname, other.fullname))\n",
        "    def __sub__(self, other):\n",
        "        print(\"%s, %s 이혼했네\" % (self.fullname, other.fullname))\n",
        "    def __del__(self):\n",
        "        print(\"%s 죽네\" % self.fullname)\n",
        "\n",
        "class HouseKim(HousePark):\n",
        "    lastname = \"김\"\n",
        "    def travel(self, where, day):\n",
        "        print(\"%s, %s여행 %d일 가네.\" % (self.fullname, where, day))"
      ],
      "execution_count": 0,
      "outputs": []
    },
    {
      "cell_type": "code",
      "metadata": {
        "id": "Qk8BvPM3Aapq",
        "colab_type": "code",
        "colab": {}
      },
      "source": [
        "pey = HousePark(\"응용\")\n",
        "juliet = HouseKim(\"줄리엣\")"
      ],
      "execution_count": 0,
      "outputs": []
    },
    {
      "cell_type": "code",
      "metadata": {
        "id": "cS_oLGaNAcqS",
        "colab_type": "code",
        "outputId": "1841880a-b7d5-43c9-e020-a775f6722d05",
        "colab": {
          "base_uri": "https://localhost:8080/",
          "height": 119
        }
      },
      "source": [
        "pey.travel(\"부산\")\n",
        "juliet.travel(\"부산\", 3)\n",
        "pey.love(juliet)\n",
        "pey + juliet\n",
        "pey.fight(juliet)\n",
        "pey - juliet"
      ],
      "execution_count": 0,
      "outputs": [
        {
          "output_type": "stream",
          "text": [
            "박응용, 부산여행을 가다.\n",
            "김줄리엣, 부산여행 3일 가네.\n",
            "박응용, 김줄리엣 사랑에 빠졌네\n",
            "박응용, 김줄리엣 결혼했네\n",
            "박응용, 김줄리엣 싸우네\n",
            "박응용, 김줄리엣 이혼했네\n"
          ],
          "name": "stdout"
        }
      ]
    },
    {
      "cell_type": "code",
      "metadata": {
        "id": "TvtvOlCrZqKB",
        "colab_type": "code",
        "outputId": "a772363c-63b3-4a6a-e5f1-f67e4c6b28fa",
        "colab": {
          "base_uri": "https://localhost:8080/",
          "height": 34
        }
      },
      "source": [
        "pey.__del__()"
      ],
      "execution_count": 0,
      "outputs": [
        {
          "output_type": "stream",
          "text": [
            "박응용 죽네\n"
          ],
          "name": "stdout"
        }
      ]
    },
    {
      "cell_type": "markdown",
      "metadata": {
        "id": "75rtQrW1dwdU",
        "colab_type": "text"
      },
      "source": [
        "--------------------"
      ]
    },
    {
      "cell_type": "markdown",
      "metadata": {
        "id": "Z032QiMAdsgk",
        "colab_type": "text"
      },
      "source": [
        "# 함수형 프로그래밍 [5]"
      ]
    },
    {
      "cell_type": "markdown",
      "metadata": {
        "id": "8hYTMC37dvoM",
        "colab_type": "text"
      },
      "source": [
        "* map\n",
        "* filter\n",
        "* reduce"
      ]
    },
    {
      "cell_type": "markdown",
      "metadata": {
        "id": "4aGmtVD-d0GA",
        "colab_type": "text"
      },
      "source": [
        "## map"
      ]
    },
    {
      "cell_type": "markdown",
      "metadata": {
        "id": "Uu5XFdezd12p",
        "colab_type": "text"
      },
      "source": [
        "map이라는 것은 함수와 시퀀스 자료형(리스트, 터플, 문자열)을 입력으로 받아서 시퀀스 자료형의 각각의 요소가 함수의 입력으로 들어간 다음 나오는 출력값을 묶어서 리스트로 돌려주는 함수이다."
      ]
    },
    {
      "cell_type": "code",
      "metadata": {
        "id": "HVDWO9EGZua3",
        "colab_type": "code",
        "outputId": "65fc1931-ac78-4c9d-dbeb-764de7f661aa",
        "colab": {
          "base_uri": "https://localhost:8080/",
          "height": 51
        }
      },
      "source": [
        "def f(x) :\n",
        "    return x*x\n",
        "\n",
        "x = [1, 2, 3, 4, 5]\n",
        "y = map(f, x)\n",
        "\n",
        "print(x)\n",
        "print(list(y))"
      ],
      "execution_count": 0,
      "outputs": [
        {
          "output_type": "stream",
          "text": [
            "[1, 2, 3, 4, 5]\n",
            "[1, 4, 9, 16, 25]\n"
          ],
          "name": "stdout"
        }
      ]
    },
    {
      "cell_type": "markdown",
      "metadata": {
        "id": "SZydrZNPfeZ6",
        "colab_type": "text"
      },
      "source": [
        "<img src='https://github.com/psygrammer/psypy/blob/master/notebooks/figures/03/01_fig.10.7.png?raw=1'/>"
      ]
    },
    {
      "cell_type": "code",
      "metadata": {
        "id": "Wv1XoY1vgFkz",
        "colab_type": "code",
        "outputId": "df583a4a-1721-418f-a333-a1645b89eda7",
        "colab": {
          "base_uri": "https://localhost:8080/",
          "height": 51
        }
      },
      "source": [
        "# 위의 코드는 다음과 같다\n",
        "y = []\n",
        "for e in x :\n",
        "    ne = f(e)\n",
        "    y.append(ne)\n",
        "\n",
        "print(x)\n",
        "print(y)"
      ],
      "execution_count": 0,
      "outputs": [
        {
          "output_type": "stream",
          "text": [
            "[1, 2, 3, 4, 5]\n",
            "[1, 4, 9, 16, 25]\n"
          ],
          "name": "stdout"
        }
      ]
    },
    {
      "cell_type": "code",
      "metadata": {
        "id": "jji307aJgJ7z",
        "colab_type": "code",
        "outputId": "acf87fbb-f5f9-4836-b046-ab24d5a85587",
        "colab": {
          "base_uri": "https://localhost:8080/",
          "height": 51
        }
      },
      "source": [
        "# 람다 함수 이용\n",
        "y = map(lambda a:a*a, x)\n",
        "print(x)\n",
        "print(list(y))"
      ],
      "execution_count": 0,
      "outputs": [
        {
          "output_type": "stream",
          "text": [
            "[1, 2, 3, 4, 5]\n",
            "[1, 4, 9, 16, 25]\n"
          ],
          "name": "stdout"
        }
      ]
    },
    {
      "cell_type": "code",
      "metadata": {
        "id": "K8oLp12WgLGe",
        "colab_type": "code",
        "outputId": "e89d3b88-ff71-4c5c-9156-abde2482b111",
        "colab": {
          "base_uri": "https://localhost:8080/",
          "height": 51
        }
      },
      "source": [
        "x = range(10)\n",
        "y = map(lambda a: a*a+4*a, x)\n",
        "print(x)\n",
        "print(list(y))"
      ],
      "execution_count": 0,
      "outputs": [
        {
          "output_type": "stream",
          "text": [
            "range(0, 10)\n",
            "[0, 5, 12, 21, 32, 45, 60, 77, 96, 117]\n"
          ],
          "name": "stdout"
        }
      ]
    },
    {
      "cell_type": "code",
      "metadata": {
        "id": "0x7CatOJgNuV",
        "colab_type": "code",
        "outputId": "fabed243-3662-4297-cbf6-a28f517c5909",
        "colab": {
          "base_uri": "https://localhost:8080/",
          "height": 68
        }
      },
      "source": [
        "# 두 개 이상 입력\n",
        "x = [1,2,3,4,5]\n",
        "y = [6,7,8,9,10]\n",
        "z = map(lambda a, b:a+b, x, y)\n",
        "print(x)\n",
        "print(y)\n",
        "print(list(z))"
      ],
      "execution_count": 0,
      "outputs": [
        {
          "output_type": "stream",
          "text": [
            "[1, 2, 3, 4, 5]\n",
            "[6, 7, 8, 9, 10]\n",
            "[7, 9, 11, 13, 15]\n"
          ],
          "name": "stdout"
        }
      ]
    },
    {
      "cell_type": "markdown",
      "metadata": {
        "id": "Sq5yTSJdgP30",
        "colab_type": "text"
      },
      "source": [
        "<img src='https://github.com/psygrammer/psypy/blob/master/notebooks/figures/03/01_fig.10.8.png?raw=1'/>"
      ]
    },
    {
      "cell_type": "markdown",
      "metadata": {
        "id": "u2gD48McgTg7",
        "colab_type": "text"
      },
      "source": [
        "## filter"
      ]
    },
    {
      "cell_type": "markdown",
      "metadata": {
        "id": "rFUQ3OUmgWNL",
        "colab_type": "text"
      },
      "source": [
        "filter는 함수와 시퀀스 자료형을 입력으로 받아서 자료의 값이 하나씩 함수의 인수로 전달될 때, 참을 반환시키는 값만을 따로 모아서 리스트의 형태로 반환하는 함수이다. filter의 뜻은 무엇인가를 걸러낸다는 뜻이다. 이 의미가 filter 함수에서도 그대로 사용된다."
      ]
    },
    {
      "cell_type": "code",
      "metadata": {
        "id": "g-i1H0BCgXiX",
        "colab_type": "code",
        "outputId": "e77b889b-7930-40e6-ec9d-646d4a25018f",
        "colab": {
          "base_uri": "https://localhost:8080/",
          "height": 34
        }
      },
      "source": [
        "def positive(x): \n",
        "    return x > 0\n",
        "\n",
        "list(filter(positive, [1,-3,2,0,-5,6]))"
      ],
      "execution_count": 0,
      "outputs": [
        {
          "output_type": "execute_result",
          "data": {
            "text/plain": [
              "[1, 2, 6]"
            ]
          },
          "metadata": {
            "tags": []
          },
          "execution_count": 134
        }
      ]
    },
    {
      "cell_type": "code",
      "metadata": {
        "id": "722c93-GgZIa",
        "colab_type": "code",
        "outputId": "b3078a85-4c26-47d8-cac6-c6ac2d439588",
        "colab": {
          "base_uri": "https://localhost:8080/",
          "height": 34
        }
      },
      "source": [
        "# 위의 코드는 다음과 같다\n",
        "def positive(l): \n",
        "    result = [] \n",
        "    for i in l: \n",
        "        if i > 0: \n",
        "            result.append(i) \n",
        "    return result\n",
        "\n",
        "positive([1,-3,2,0,-5,6])"
      ],
      "execution_count": 0,
      "outputs": [
        {
          "output_type": "execute_result",
          "data": {
            "text/plain": [
              "[1, 2, 6]"
            ]
          },
          "metadata": {
            "tags": []
          },
          "execution_count": 135
        }
      ]
    },
    {
      "cell_type": "code",
      "metadata": {
        "id": "eJE6krJZgeIs",
        "colab_type": "code",
        "outputId": "c0c1648f-f82d-4d50-db62-e9c4011b6149",
        "colab": {
          "base_uri": "https://localhost:8080/",
          "height": 34
        }
      },
      "source": [
        "# 람다 함수 사용\n",
        "list(filter(lambda x : x>0, [1,-3,2,0,-5,6]))"
      ],
      "execution_count": 0,
      "outputs": [
        {
          "output_type": "execute_result",
          "data": {
            "text/plain": [
              "[1, 2, 6]"
            ]
          },
          "metadata": {
            "tags": []
          },
          "execution_count": 136
        }
      ]
    },
    {
      "cell_type": "code",
      "metadata": {
        "id": "fhPSQx-rggFA",
        "colab_type": "code",
        "outputId": "270a1928-9a84-4656-b3a0-f95d9a6512e9",
        "colab": {
          "base_uri": "https://localhost:8080/",
          "height": 34
        }
      },
      "source": [
        "list(filter(lambda x : x%2, [1,2,3,4,5,6]))"
      ],
      "execution_count": 0,
      "outputs": [
        {
          "output_type": "execute_result",
          "data": {
            "text/plain": [
              "[1, 3, 5]"
            ]
          },
          "metadata": {
            "tags": []
          },
          "execution_count": 137
        }
      ]
    },
    {
      "cell_type": "markdown",
      "metadata": {
        "id": "G53j2G-kgh_g",
        "colab_type": "text"
      },
      "source": [
        "<img src='https://github.com/psygrammer/psypy/blob/master/notebooks/figures/03/01_fig.10.11.png?raw=1'/>"
      ]
    },
    {
      "cell_type": "markdown",
      "metadata": {
        "id": "BJL9jufKgl5z",
        "colab_type": "text"
      },
      "source": [
        "## reduce"
      ]
    },
    {
      "cell_type": "markdown",
      "metadata": {
        "id": "9aLPMb-Mgnrk",
        "colab_type": "text"
      },
      "source": [
        "reduce는 첫 인수로 함수를 받는다. 이 함수는 두 개의 인수를 받는다. 두 번째 인자는 시퀀스 자료형이다. 시퀀스의 자료들은 순차적으로 reduce가 받은 함수의 첫 번째 인수, 두 번째 인수로 전달된다. 첫 인수는 함수의 계산 결과가 누적적으로 적용된다. 단, 처음 계산에서는 시퀀스의 두 개의 요소가 함수에 전달된다."
      ]
    },
    {
      "cell_type": "code",
      "metadata": {
        "id": "Op7luekEgpMI",
        "colab_type": "code",
        "colab": {}
      },
      "source": [
        "from functools import reduce"
      ],
      "execution_count": 0,
      "outputs": []
    },
    {
      "cell_type": "code",
      "metadata": {
        "id": "MTqDrFF3grwZ",
        "colab_type": "code",
        "outputId": "707c5bab-452d-40a4-c211-9a96fca0e791",
        "colab": {
          "base_uri": "https://localhost:8080/",
          "height": 34
        }
      },
      "source": [
        "# 1부터 5까지 더하기\n",
        "# 다음 코드는 이 수식과 동일하다. ((((1+2)+3)+4)+5)\n",
        "reduce(lambda x, y : x+y, [1, 2, 3, 4, 5])"
      ],
      "execution_count": 0,
      "outputs": [
        {
          "output_type": "execute_result",
          "data": {
            "text/plain": [
              "15"
            ]
          },
          "metadata": {
            "tags": []
          },
          "execution_count": 139
        }
      ]
    },
    {
      "cell_type": "markdown",
      "metadata": {
        "id": "P6A7SE1agvMT",
        "colab_type": "text"
      },
      "source": [
        "<img src='https://github.com/psygrammer/psypy/blob/master/notebooks/figures/03/01_fig.10.12.png?raw=1'/>"
      ]
    },
    {
      "cell_type": "code",
      "metadata": {
        "id": "zqUAemRdgzDB",
        "colab_type": "code",
        "outputId": "10bac194-2ee1-4995-f309-5f20f78716bc",
        "colab": {
          "base_uri": "https://localhost:8080/",
          "height": 34
        }
      },
      "source": [
        "# reduce 함수에 세 번째 인수를 부여할 수 있는데, 초기 값으로 사용된다.\n",
        "# 다음 코드는 이 수식과 동일하다. (((((0+1)+2)+3)+4)+5)\n",
        "reduce(lambda x, y : x+y, [1, 2, 3, 4, 5], 0)"
      ],
      "execution_count": 0,
      "outputs": [
        {
          "output_type": "execute_result",
          "data": {
            "text/plain": [
              "15"
            ]
          },
          "metadata": {
            "tags": []
          },
          "execution_count": 140
        }
      ]
    },
    {
      "cell_type": "code",
      "metadata": {
        "id": "gkXTWhp-g-3L",
        "colab_type": "code",
        "outputId": "31c25b70-d36f-4e84-8092-d1d92f9f20d2",
        "colab": {
          "base_uri": "https://localhost:8080/",
          "height": 34
        }
      },
      "source": [
        "# 각 원소를 제곱해서 모두 더하기\n",
        "reduce(lambda x, y : x + y*y, range(1,11), 0)"
      ],
      "execution_count": 0,
      "outputs": [
        {
          "output_type": "execute_result",
          "data": {
            "text/plain": [
              "385"
            ]
          },
          "metadata": {
            "tags": []
          },
          "execution_count": 141
        }
      ]
    },
    {
      "cell_type": "code",
      "metadata": {
        "id": "0et-rKCzg1MC",
        "colab_type": "code",
        "outputId": "44037200-a1c8-442d-9c28-b342184a368e",
        "colab": {
          "base_uri": "https://localhost:8080/",
          "height": 34
        }
      },
      "source": [
        "# 위의 코드는 다음과 동일하다.\n",
        "x = 0\n",
        "for y in range(1, 11) :\n",
        "    x = x + y*y\n",
        "    \n",
        "x"
      ],
      "execution_count": 0,
      "outputs": [
        {
          "output_type": "execute_result",
          "data": {
            "text/plain": [
              "385"
            ]
          },
          "metadata": {
            "tags": []
          },
          "execution_count": 142
        }
      ]
    },
    {
      "cell_type": "markdown",
      "metadata": {
        "id": "6gXhyURIcEBY",
        "colab_type": "text"
      },
      "source": [
        "-------------------------------"
      ]
    },
    {
      "cell_type": "markdown",
      "metadata": {
        "id": "39_SfR_MbwRc",
        "colab_type": "text"
      },
      "source": [
        "# 참고자료 \n",
        "* [1] 파이썬 라이브러리를 활용한 데이터 분석(2판)\n",
        "    - http://www.hanbit.co.kr/store/books/look.php?p_code=B6417848794\n",
        "* [2] 점프 투 파이썬 : 04장 프로그램의 입력과 출력은 어떻게 해야 할까? - https://wikidocs.net/23\n",
        "* [3] python | learn x in y minutes - https://learnxinyminutes.com/docs/python3/\n",
        "* [4] 점프 투 파이썬 : 클래스 - https://wikidocs.net/28\n",
        "* [5] 점프 투 파이썬 : 내장함수 - https://wikidocs.net/32"
      ]
    }
  ]
}